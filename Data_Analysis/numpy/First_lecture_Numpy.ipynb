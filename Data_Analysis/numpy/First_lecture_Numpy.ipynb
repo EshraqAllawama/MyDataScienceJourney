{
  "nbformat": 4,
  "nbformat_minor": 0,
  "metadata": {
    "colab": {
      "provenance": [],
      "authorship_tag": "ABX9TyP2uHQhuP7eChU0DJ9Ul3v5",
      "include_colab_link": true
    },
    "kernelspec": {
      "name": "python3",
      "display_name": "Python 3"
    },
    "language_info": {
      "name": "python"
    }
  },
  "cells": [
    {
      "cell_type": "markdown",
      "metadata": {
        "id": "view-in-github",
        "colab_type": "text"
      },
      "source": [
        "<a href=\"https://colab.research.google.com/github/EshraqAllawama/MyDataScienceJourney/blob/main/Data_Analysis/numpy/First_lecture_Numpy.ipynb\" target=\"_parent\"><img src=\"https://colab.research.google.com/assets/colab-badge.svg\" alt=\"Open In Colab\"/></a>"
      ]
    },
    {
      "cell_type": "code",
      "execution_count": null,
      "metadata": {
        "id": "md15jCbaPzLw"
      },
      "outputs": [],
      "source": [
        "# numpy based on Lanier algebra (Matrix)\n",
        "# you need this library and another library's based on it as pandas\n",
        "# Numpy is also incredibly fast, as it has bindings to C libraries."
      ]
    },
    {
      "cell_type": "code",
      "source": [
        "# vector -> 1 dim\n",
        "# matrix -> 2 dim or 1"
      ],
      "metadata": {
        "id": "Ta7q_WkWiAnT"
      },
      "execution_count": null,
      "outputs": []
    },
    {
      "cell_type": "code",
      "source": [
        "import numpy as np"
      ],
      "metadata": {
        "id": "6zlVlEFyiW4V"
      },
      "execution_count": null,
      "outputs": []
    },
    {
      "cell_type": "code",
      "source": [
        "# array is class\n",
        "my_list_1 = [1, 2, 3, 5]\n",
        "np.array(my_list_1)"
      ],
      "metadata": {
        "colab": {
          "base_uri": "https://localhost:8080/"
        },
        "id": "wxosvtxwiOBL",
        "outputId": "f829fb7b-eba1-4b75-da45-2059120fa934"
      },
      "execution_count": null,
      "outputs": [
        {
          "output_type": "execute_result",
          "data": {
            "text/plain": [
              "array([1, 2, 3, 5])"
            ]
          },
          "metadata": {},
          "execution_count": 2
        }
      ]
    },
    {
      "cell_type": "code",
      "source": [
        "my_list_2 = [[1, 3, 4], [5, 6, 7]]\n",
        "np.array(my_list_2)"
      ],
      "metadata": {
        "colab": {
          "base_uri": "https://localhost:8080/"
        },
        "id": "r7JK-EsPiegc",
        "outputId": "e029119a-4fb7-4577-c8c0-f032b3964579"
      },
      "execution_count": null,
      "outputs": [
        {
          "output_type": "execute_result",
          "data": {
            "text/plain": [
              "array([[1, 3, 4],\n",
              "       [5, 6, 7]])"
            ]
          },
          "metadata": {},
          "execution_count": 3
        }
      ]
    },
    {
      "cell_type": "markdown",
      "source": [
        "#create the array using numpy"
      ],
      "metadata": {
        "id": "92RJfQ3HjCXJ"
      }
    },
    {
      "cell_type": "code",
      "source": [
        "# Return evenly spaced numbers over a specified interval.\n",
        "# not randomly , البعد بينهم متساوي , equals gap\n",
        "np.arange(0, 13)"
      ],
      "metadata": {
        "colab": {
          "base_uri": "https://localhost:8080/"
        },
        "id": "4mep8AGijB3f",
        "outputId": "256dda6a-d320-417b-bfe0-d29eb2b2bf9f"
      },
      "execution_count": null,
      "outputs": [
        {
          "output_type": "execute_result",
          "data": {
            "text/plain": [
              "array([ 0,  1,  2,  3,  4,  5,  6,  7,  8,  9, 10, 11, 12])"
            ]
          },
          "metadata": {},
          "execution_count": 4
        }
      ]
    },
    {
      "cell_type": "code",
      "source": [
        "np.arange(0, 13, 2)"
      ],
      "metadata": {
        "colab": {
          "base_uri": "https://localhost:8080/"
        },
        "id": "VgXA6ohMioSj",
        "outputId": "b8037f29-d4a4-4955-cbd6-5b4eded10c40"
      },
      "execution_count": null,
      "outputs": [
        {
          "output_type": "execute_result",
          "data": {
            "text/plain": [
              "array([ 0,  2,  4,  6,  8, 10, 12])"
            ]
          },
          "metadata": {},
          "execution_count": 5
        }
      ]
    },
    {
      "cell_type": "code",
      "source": [
        "# np.zeros(shape)\n",
        "np.zeros(3) # as Victor"
      ],
      "metadata": {
        "colab": {
          "base_uri": "https://localhost:8080/"
        },
        "id": "pgIWoLEwlpzE",
        "outputId": "a594eeed-4a2d-4381-f455-d827e001abec"
      },
      "execution_count": null,
      "outputs": [
        {
          "output_type": "execute_result",
          "data": {
            "text/plain": [
              "array([0., 0., 0.])"
            ]
          },
          "metadata": {},
          "execution_count": 7
        }
      ]
    },
    {
      "cell_type": "code",
      "source": [
        "np.ones(3)"
      ],
      "metadata": {
        "colab": {
          "base_uri": "https://localhost:8080/"
        },
        "id": "BxyzsRaClwjA",
        "outputId": "27a28099-23a7-4dda-b4cd-f6c3fb97f446"
      },
      "execution_count": null,
      "outputs": [
        {
          "output_type": "execute_result",
          "data": {
            "text/plain": [
              "array([1., 1., 1.])"
            ]
          },
          "metadata": {},
          "execution_count": 8
        }
      ]
    },
    {
      "cell_type": "code",
      "source": [
        "       # dim1, dim2\n",
        "np.zeros((3,4)) # as matrix"
      ],
      "metadata": {
        "colab": {
          "base_uri": "https://localhost:8080/"
        },
        "id": "UgWHXDEBl4-h",
        "outputId": "5cb76921-840c-4f31-ac68-15be8aaf8b90"
      },
      "execution_count": null,
      "outputs": [
        {
          "output_type": "execute_result",
          "data": {
            "text/plain": [
              "array([[0., 0., 0., 0.],\n",
              "       [0., 0., 0., 0.],\n",
              "       [0., 0., 0., 0.]])"
            ]
          },
          "metadata": {},
          "execution_count": 24
        }
      ]
    },
    {
      "cell_type": "code",
      "source": [
        "      # dim1, dim2, dim3    3 dimensional using for picture coloring\n",
        "np.zeros((3,4,4))"
      ],
      "metadata": {
        "colab": {
          "base_uri": "https://localhost:8080/"
        },
        "id": "Tt30rzBUl-aQ",
        "outputId": "3caf900f-4aa5-4fed-f3e3-580b7d210857"
      },
      "execution_count": null,
      "outputs": [
        {
          "output_type": "execute_result",
          "data": {
            "text/plain": [
              "array([[[0., 0., 0., 0.],\n",
              "        [0., 0., 0., 0.],\n",
              "        [0., 0., 0., 0.],\n",
              "        [0., 0., 0., 0.]],\n",
              "\n",
              "       [[0., 0., 0., 0.],\n",
              "        [0., 0., 0., 0.],\n",
              "        [0., 0., 0., 0.],\n",
              "        [0., 0., 0., 0.]],\n",
              "\n",
              "       [[0., 0., 0., 0.],\n",
              "        [0., 0., 0., 0.],\n",
              "        [0., 0., 0., 0.],\n",
              "        [0., 0., 0., 0.]]])"
            ]
          },
          "metadata": {},
          "execution_count": 11
        }
      ]
    },
    {
      "cell_type": "code",
      "source": [
        "# Return evenly spaced numbers over a specified interval.\n",
        "# not randomly , البعد بينهم متساوي , equals gap\n",
        "          #start,last,# of number\n",
        "np.linspace(0, 10, 4)"
      ],
      "metadata": {
        "colab": {
          "base_uri": "https://localhost:8080/"
        },
        "id": "LZp4MbmmmXTO",
        "outputId": "e0c45af8-89ca-407c-f76c-e5550ebeee6f"
      },
      "execution_count": null,
      "outputs": [
        {
          "output_type": "execute_result",
          "data": {
            "text/plain": [
              "array([ 0.        ,  3.33333333,  6.66666667, 10.        ])"
            ]
          },
          "metadata": {},
          "execution_count": 12
        }
      ]
    },
    {
      "cell_type": "code",
      "source": [
        "np.linspace(0, 5, 2)"
      ],
      "metadata": {
        "colab": {
          "base_uri": "https://localhost:8080/"
        },
        "id": "st9tgAEKnEM4",
        "outputId": "8d4e08d6-65e1-4ddf-963b-13ba5610c58c"
      },
      "execution_count": null,
      "outputs": [
        {
          "output_type": "execute_result",
          "data": {
            "text/plain": [
              "array([0., 5.])"
            ]
          },
          "metadata": {},
          "execution_count": 16
        }
      ]
    },
    {
      "cell_type": "code",
      "source": [
        "np.linspace(0, 5, 3)"
      ],
      "metadata": {
        "id": "6iTZ9Mu0nXaF"
      },
      "execution_count": null,
      "outputs": []
    },
    {
      "cell_type": "markdown",
      "source": [
        "#Identity matrix"
      ],
      "metadata": {
        "id": "mUfdrlcgnoI0"
      }
    },
    {
      "cell_type": "code",
      "source": [
        "      # shape\n",
        "np.eye(3) # is square matrix"
      ],
      "metadata": {
        "colab": {
          "base_uri": "https://localhost:8080/"
        },
        "id": "LIiauHI_nqVo",
        "outputId": "d93909ab-87f4-405f-878a-d8d76b36c922"
      },
      "execution_count": null,
      "outputs": [
        {
          "output_type": "execute_result",
          "data": {
            "text/plain": [
              "array([[1., 0., 0.],\n",
              "       [0., 1., 0.],\n",
              "       [0., 0., 1.]])"
            ]
          },
          "metadata": {},
          "execution_count": 19
        }
      ]
    },
    {
      "cell_type": "markdown",
      "source": [
        "#Random is sub module"
      ],
      "metadata": {
        "id": "ZxHHtiVIpBBV"
      }
    },
    {
      "cell_type": "code",
      "source": [
        "# These numbers are called \"pseudo-random\"\n"
      ],
      "metadata": {
        "id": "apvv2MuSpAou"
      },
      "execution_count": null,
      "outputs": []
    },
    {
      "cell_type": "code",
      "source": [
        "# uniform distribution over [0, 1) -> Continuous(float mostly) Uniform Distribution\n",
        "# كل القيم الها نفس احتمالية الظهور, مثلا زي حجر النرد\n",
        "np.random.rand(4)"
      ],
      "metadata": {
        "colab": {
          "base_uri": "https://localhost:8080/"
        },
        "id": "zt5HJGGbnrUH",
        "outputId": "99c5ed4c-470d-4c48-9cd3-1958b928a5a5"
      },
      "execution_count": null,
      "outputs": [
        {
          "output_type": "execute_result",
          "data": {
            "text/plain": [
              "array([0.40137486, 0.69955041, 0.02680229, 0.41732899])"
            ]
          },
          "metadata": {},
          "execution_count": 20
        }
      ]
    },
    {
      "cell_type": "code",
      "source": [
        "# random.rand(d0, d1, ..., dn)\n",
        "np.random.rand(3,3)"
      ],
      "metadata": {
        "colab": {
          "base_uri": "https://localhost:8080/"
        },
        "id": "21UsraawpYi_",
        "outputId": "0b7f8f7d-9d78-4d35-9f4c-a9e306dd594f"
      },
      "execution_count": null,
      "outputs": [
        {
          "output_type": "execute_result",
          "data": {
            "text/plain": [
              "array([[0.76969591, 0.19078357, 0.3156791 ],\n",
              "       [0.41613771, 0.44433192, 0.35183025],\n",
              "       [0.39926887, 0.97141282, 0.63570639]])"
            ]
          },
          "metadata": {},
          "execution_count": 22
        }
      ]
    },
    {
      "cell_type": "code",
      "source": [
        "import numpy as np\n"
      ],
      "metadata": {
        "id": "DDusOBEZCuAA"
      },
      "execution_count": null,
      "outputs": []
    },
    {
      "cell_type": "code",
      "source": [
        "# standard normal distribution.\n",
        "# كل القيم  ما الها نفس احتمالية الظهور\n",
        "np.random.randn(4)\n"
      ],
      "metadata": {
        "colab": {
          "base_uri": "https://localhost:8080/"
        },
        "id": "q01_n-aeqtC_",
        "outputId": "e411874e-a7f3-45de-913f-182be261bea5"
      },
      "execution_count": null,
      "outputs": [
        {
          "output_type": "execute_result",
          "data": {
            "text/plain": [
              "array([ 0.68350149, -1.09637341,  0.90997447, -0.13072766])"
            ]
          },
          "metadata": {},
          "execution_count": 3
        }
      ]
    },
    {
      "cell_type": "code",
      "source": [
        "# Return random integers from low (inclusive) to high (exclusive)."
      ],
      "metadata": {
        "id": "GIFiOJc5sGMM"
      },
      "execution_count": null,
      "outputs": []
    },
    {
      "cell_type": "code",
      "source": [
        "# discrete(int mostly) uniform distribution\n",
        "                        # shape\n",
        "np.random.randint(0, 101, 33)"
      ],
      "metadata": {
        "colab": {
          "base_uri": "https://localhost:8080/"
        },
        "id": "iX3I17DqsQt9",
        "outputId": "e17645c8-a042-46f1-e30a-50649943c6ee"
      },
      "execution_count": null,
      "outputs": [
        {
          "output_type": "execute_result",
          "data": {
            "text/plain": [
              "array([ 4, 81, 61, 17, 32, 29, 99, 14,  1, 29, 75, 84, 40, 35, 44, 16, 70,\n",
              "       18, 82,  1, 57, 81, 97, 34, 38, 48, 97, 61, 24, 40,  4,  2, 38])"
            ]
          },
          "metadata": {},
          "execution_count": 29
        }
      ]
    },
    {
      "cell_type": "code",
      "source": [
        "# new shape should be compatible with the original shape\n",
        "# Returns an array containing the same data with a new shape."
      ],
      "metadata": {
        "id": "5iqhM-mXtB_X"
      },
      "execution_count": null,
      "outputs": []
    },
    {
      "cell_type": "code",
      "source": [
        "arr = np.arange(25)\n",
        "ranarr = np.random.randint(0,50,10)"
      ],
      "metadata": {
        "id": "Ir62Ox9_vhA-"
      },
      "execution_count": null,
      "outputs": []
    },
    {
      "cell_type": "code",
      "source": [
        "# Returns an array containing the same data with a new shape.\n",
        "np.reshape(arr, (5,5))"
      ],
      "metadata": {
        "colab": {
          "base_uri": "https://localhost:8080/"
        },
        "id": "MAfFpYzIvee2",
        "outputId": "d092f6f7-dd88-4a2d-dc0c-90354464abba"
      },
      "execution_count": null,
      "outputs": [
        {
          "output_type": "execute_result",
          "data": {
            "text/plain": [
              "array([[ 0,  1,  2,  3,  4],\n",
              "       [ 5,  6,  7,  8,  9],\n",
              "       [10, 11, 12, 13, 14],\n",
              "       [15, 16, 17, 18, 19],\n",
              "       [20, 21, 22, 23, 24]])"
            ]
          },
          "metadata": {},
          "execution_count": 32
        }
      ]
    },
    {
      "cell_type": "code",
      "source": [
        "ranarr.reshape(5,2)"
      ],
      "metadata": {
        "colab": {
          "base_uri": "https://localhost:8080/"
        },
        "id": "Wd1QvkFgvuVd",
        "outputId": "3a6587c3-aec4-43b2-9d35-5e265447c978"
      },
      "execution_count": null,
      "outputs": [
        {
          "output_type": "execute_result",
          "data": {
            "text/plain": [
              "array([[39, 49],\n",
              "       [37, 41],\n",
              "       [31, 34],\n",
              "       [26, 33],\n",
              "       [43,  1]])"
            ]
          },
          "metadata": {},
          "execution_count": 34
        }
      ]
    },
    {
      "cell_type": "code",
      "source": [
        "ranarr"
      ],
      "metadata": {
        "colab": {
          "base_uri": "https://localhost:8080/"
        },
        "id": "cWEhVHCHvyKu",
        "outputId": "7b847d58-ca02-41d3-af43-f395e9b6abfb"
      },
      "execution_count": null,
      "outputs": [
        {
          "output_type": "execute_result",
          "data": {
            "text/plain": [
              "array([39, 49, 37, 41, 31, 34, 26, 33, 43,  1])"
            ]
          },
          "metadata": {},
          "execution_count": 40
        }
      ]
    },
    {
      "cell_type": "code",
      "source": [
        "ranarr.max()"
      ],
      "metadata": {
        "colab": {
          "base_uri": "https://localhost:8080/"
        },
        "id": "TzzROUpzxXP5",
        "outputId": "1ed6b08f-9123-437c-cc74-b5a0c4ba3b9f"
      },
      "execution_count": null,
      "outputs": [
        {
          "output_type": "execute_result",
          "data": {
            "text/plain": [
              "49"
            ]
          },
          "metadata": {},
          "execution_count": 36
        }
      ]
    },
    {
      "cell_type": "code",
      "source": [
        "ranarr.min()"
      ],
      "metadata": {
        "colab": {
          "base_uri": "https://localhost:8080/"
        },
        "id": "BNAT7ZdOxYoO",
        "outputId": "a49b472f-3fe9-4d5d-cce6-f444cd85ab81"
      },
      "execution_count": null,
      "outputs": [
        {
          "output_type": "execute_result",
          "data": {
            "text/plain": [
              "1"
            ]
          },
          "metadata": {},
          "execution_count": 37
        }
      ]
    },
    {
      "cell_type": "code",
      "source": [
        "ranarr.argmax() # the location/index of max value\n",
        "     # using in classification modules (التصنيف)\n",
        "     # بتعطي الاندكس لاعلى كلاس او صنف احتمالية"
      ],
      "metadata": {
        "colab": {
          "base_uri": "https://localhost:8080/"
        },
        "id": "Ed8XPx7txa_O",
        "outputId": "a6c97f5f-ce29-4661-a8d5-056b6e4a69b6"
      },
      "execution_count": null,
      "outputs": [
        {
          "output_type": "execute_result",
          "data": {
            "text/plain": [
              "1"
            ]
          },
          "metadata": {},
          "execution_count": 38
        }
      ]
    },
    {
      "cell_type": "code",
      "source": [
        "ranarr.argmin() # the location/index of min value"
      ],
      "metadata": {
        "colab": {
          "base_uri": "https://localhost:8080/"
        },
        "id": "JU0bjwIBxhmZ",
        "outputId": "c82a98e8-bb02-4562-ba8c-9a4fd2ec4668"
      },
      "execution_count": null,
      "outputs": [
        {
          "output_type": "execute_result",
          "data": {
            "text/plain": [
              "9"
            ]
          },
          "metadata": {},
          "execution_count": 39
        }
      ]
    },
    {
      "cell_type": "markdown",
      "source": [
        "#Shape"
      ],
      "metadata": {
        "id": "KA4nrt45zFtB"
      }
    },
    {
      "cell_type": "code",
      "source": [
        "ranarr"
      ],
      "metadata": {
        "colab": {
          "base_uri": "https://localhost:8080/"
        },
        "id": "UzfbUAc0ztss",
        "outputId": "86c23dac-eaaf-44c0-beb7-dec92865fe22"
      },
      "execution_count": null,
      "outputs": [
        {
          "output_type": "execute_result",
          "data": {
            "text/plain": [
              "array([39, 49, 37, 41, 31, 34, 26, 33, 43,  1])"
            ]
          },
          "metadata": {},
          "execution_count": 45
        }
      ]
    },
    {
      "cell_type": "code",
      "source": [
        "# as attributes\n",
        "ranarr.shape # as tuple"
      ],
      "metadata": {
        "colab": {
          "base_uri": "https://localhost:8080/"
        },
        "id": "jj2W1wgGzFSV",
        "outputId": "524e0b09-7200-4fa4-c8e7-6945d6f7e9fc"
      },
      "execution_count": null,
      "outputs": [
        {
          "output_type": "execute_result",
          "data": {
            "text/plain": [
              "(10,)"
            ]
          },
          "metadata": {},
          "execution_count": 41
        }
      ]
    },
    {
      "cell_type": "code",
      "source": [
        "ranarr.reshape(1, 10) # for somthing in nural networks\n"
      ],
      "metadata": {
        "colab": {
          "base_uri": "https://localhost:8080/"
        },
        "id": "CRkiuztnzLwV",
        "outputId": "17f1b7c6-ab0b-4efe-ac56-c2c5ac3eac01"
      },
      "execution_count": null,
      "outputs": [
        {
          "output_type": "execute_result",
          "data": {
            "text/plain": [
              "array([[39, 49, 37, 41, 31, 34, 26, 33, 43,  1]])"
            ]
          },
          "metadata": {},
          "execution_count": 42
        }
      ]
    },
    {
      "cell_type": "code",
      "source": [
        "ranarr.shape"
      ],
      "metadata": {
        "colab": {
          "base_uri": "https://localhost:8080/"
        },
        "id": "oFxpt8jUzlWm",
        "outputId": "42183a6d-6612-44bf-d419-6c090094076e"
      },
      "execution_count": null,
      "outputs": [
        {
          "output_type": "execute_result",
          "data": {
            "text/plain": [
              "(10,)"
            ]
          },
          "metadata": {},
          "execution_count": 44
        }
      ]
    },
    {
      "cell_type": "code",
      "source": [
        "ranarr.reshape(1, 10).shape# the calculate shape direct in using reshape"
      ],
      "metadata": {
        "colab": {
          "base_uri": "https://localhost:8080/"
        },
        "id": "pr64JRw2z02I",
        "outputId": "3cb3c4a5-9555-43bf-da91-e7307f0281c1"
      },
      "execution_count": null,
      "outputs": [
        {
          "output_type": "execute_result",
          "data": {
            "text/plain": [
              "(1, 10)"
            ]
          },
          "metadata": {},
          "execution_count": 49
        }
      ]
    },
    {
      "cell_type": "code",
      "source": [
        "ranarr.reshape(10, 1).shape"
      ],
      "metadata": {
        "colab": {
          "base_uri": "https://localhost:8080/"
        },
        "id": "yzHX1KoKznN3",
        "outputId": "e520c589-6458-4865-c907-f423c2e42e4a"
      },
      "execution_count": null,
      "outputs": [
        {
          "output_type": "execute_result",
          "data": {
            "text/plain": [
              "(10, 1)"
            ]
          },
          "metadata": {},
          "execution_count": 50
        }
      ]
    },
    {
      "cell_type": "code",
      "source": [
        "# the vaule in array the same type, invert list\n",
        "ranarr.dtype"
      ],
      "metadata": {
        "colab": {
          "base_uri": "https://localhost:8080/"
        },
        "id": "QAhBvPyu0Ql-",
        "outputId": "bffd9f95-9f8c-4439-9c7b-7548ad641984"
      },
      "execution_count": null,
      "outputs": [
        {
          "output_type": "execute_result",
          "data": {
            "text/plain": [
              "dtype('int64')"
            ]
          },
          "metadata": {},
          "execution_count": 51
        }
      ]
    },
    {
      "cell_type": "code",
      "source": [],
      "metadata": {
        "id": "q9ofolyE0TEv"
      },
      "execution_count": null,
      "outputs": []
    }
  ]
}