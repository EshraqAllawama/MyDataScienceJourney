{
  "nbformat": 4,
  "nbformat_minor": 0,
  "metadata": {
    "colab": {
      "provenance": [],
      "authorship_tag": "ABX9TyPKUVCH/birySyFxtiGehyK",
      "include_colab_link": true
    },
    "kernelspec": {
      "name": "python3",
      "display_name": "Python 3"
    },
    "language_info": {
      "name": "python"
    }
  },
  "cells": [
    {
      "cell_type": "markdown",
      "metadata": {
        "id": "view-in-github",
        "colab_type": "text"
      },
      "source": [
        "<a href=\"https://colab.research.google.com/github/EshraqAllawama/MyDataScienceJourney/blob/python/fifthLecture_OOP.ipynb\" target=\"_parent\"><img src=\"https://colab.research.google.com/assets/colab-badge.svg\" alt=\"Open In Colab\"/></a>"
      ]
    },
    {
      "cell_type": "code",
      "execution_count": null,
      "metadata": {
        "id": "a5gzbiCDjB8J"
      },
      "outputs": [],
      "source": [
        "# Paradigms: procedural, functionality, oop\n",
        "# EX : rectangular(class , كيان) -> x, y -> data, attribute, properties : relevant to class or obj when using contractor\n",
        "#                     circumference -> operations, actions : interact with data(attr)\n",
        "#                     space\n",
        "# deals with obj as one unit\n",
        "# typs is class as int, float-\n",
        "# copy f class is obj\n",
        "# create a instance(obj) of class rectangular"
      ]
    },
    {
      "cell_type": "code",
      "source": [
        "class personInfo:\n",
        "  name = \"EShraq\" # this attr, value for all obj\n",
        "\n",
        "  def great(): # self , the Method of this obj\n",
        "    print(f\"Hello {person.name}\")  #self.name -> att in obj because self else person.name att in class\n",
        "\n",
        "  def great_2(self): # self, it refers to the future objects of the class\n",
        "    print(f\"Hello {self.name}\")\n",
        "\n",
        "  def great_3(self): # self feature for obj\n",
        "    print(f\"Hello {person.name}\")\n",
        "\n"
      ],
      "metadata": {
        "id": "2klwgRyLp-47"
      },
      "execution_count": null,
      "outputs": []
    },
    {
      "cell_type": "code",
      "source": [
        "#person1.great()\n",
        "#person2.great()\n",
        "person.great()\n",
        "person1.great_2()\n",
        "person2.great_2()\n",
        "person2.great_3()\n"
      ],
      "metadata": {
        "id": "vD10VKn_3gE9"
      },
      "execution_count": null,
      "outputs": []
    },
    {
      "cell_type": "code",
      "source": [
        "person1 = person()\n",
        "person2 = person()\n",
        "person2.name = \"Ahmad\"\n",
        "print(person1.name)\n",
        "print(person2.name)"
      ],
      "metadata": {
        "id": "Pm6Qe76f3dI7"
      },
      "execution_count": null,
      "outputs": []
    },
    {
      "cell_type": "code",
      "source": [
        "#person1 = person()\n",
        "#person2 = person()\n",
        "#person.name = \"ammar\"\n",
        "#print(person1.name)\n",
        "#print(person2.name)"
      ],
      "metadata": {
        "id": "vNIGPLvtqu2R"
      },
      "execution_count": null,
      "outputs": []
    },
    {
      "cell_type": "markdown",
      "source": [
        "## constructor -> بناء"
      ],
      "metadata": {
        "id": "Ipi84kvb-08n"
      }
    },
    {
      "cell_type": "markdown",
      "source": [
        "This is a special method that gets called when you create a new instance of a class. It is typically used to initialize the attributes of a class.\n",
        "\n",
        "Using a constructor allows you to give different values to the attributes in each object. I.e. each future object of the call will have its own values for the attributes rather than having common values defined in the class and are shared among all objects."
      ],
      "metadata": {
        "id": "BXaJW9Mx_DVx"
      }
    },
    {
      "cell_type": "code",
      "source": [
        "# It is typically used to initialize the attributes of a class\n",
        "# Using a constructor allows you to give different values to the attributes in each object.\n",
        "# بعطي كلكل اوبجكت قيمه لحال مش عامة , attr مش لل class وانما للكل اوبجكت\n",
        "#   __init__\n",
        "#    self.name\n",
        "#    self.age  -> these attr for each future obj"
      ],
      "metadata": {
        "id": "KsSiG46QqCGo"
      },
      "execution_count": null,
      "outputs": []
    },
    {
      "cell_type": "code",
      "source": [
        "class personInfo:\n",
        "  \"\"\"\n",
        "  all information about persons in here\n",
        "\n",
        "  ..... complete, more details\n",
        "\n",
        "  parameters: # -> init(arg)\n",
        "  -----------\n",
        "  name : str\n",
        "    this name for each person\n",
        "  age : int\n",
        "    this age for each person\n",
        "\n",
        "\n",
        "  attributes: ## attr in constructor\n",
        "  -----------\n",
        "  name : str\n",
        "    this name for each person\n",
        "  age : int\n",
        "    this age for each person\n",
        "\n",
        "\n",
        "  mathods:\n",
        "  --------\n",
        "\n",
        "  graet(parameter=val) # in include self arg\n",
        "    allows the obj to print a greeting string\n",
        "\n",
        "  \"\"\"\n",
        "  name_1 = \"Mohammad\" # for all obj\n",
        "  def __init__(self, name, age): # don't have doc string and not containe it\n",
        "    self.name = name\n",
        "    self.age = age # self -> so , values of these for each obj lonely\n",
        "\n",
        "\n",
        "  def great(self):\n",
        "    \"\"\"\n",
        "    allows the obj to print a greeting string\n",
        "\n",
        "    return:\n",
        "    -------\n",
        "    gretting : str\n",
        "      gretting message for each person\n",
        "\n",
        "    \"\"\"\n",
        "\n",
        "    gretting = f\"My name is {self.name}, My age {self.age}\"\n",
        "    return  gretting"
      ],
      "metadata": {
        "id": "0NQqd-_q_vpo"
      },
      "execution_count": null,
      "outputs": []
    },
    {
      "cell_type": "code",
      "source": [
        "help(person_1)"
      ],
      "metadata": {
        "id": "CkPEj-AXN-G3"
      },
      "execution_count": null,
      "outputs": []
    },
    {
      "cell_type": "code",
      "source": [
        "person_1 = Person(age=21, name=\"eshraq\")\n",
        "print(person_1.great(),person_1.name)"
      ],
      "metadata": {
        "id": "UwT2x3V_AIR0"
      },
      "execution_count": null,
      "outputs": []
    },
    {
      "cell_type": "code",
      "source": [
        "person_2 = Person(age=25, name=\"ahmad\")\n",
        "print(person_2.great(),person_2.name)"
      ],
      "metadata": {
        "id": "FqGjC8JhAfL3"
      },
      "execution_count": null,
      "outputs": []
    },
    {
      "cell_type": "code",
      "source": [
        "# positional (\"eshraq\",21)\n",
        "# non positional (name=\"eshraq\", age=21) , age+name -> keyword argument"
      ],
      "metadata": {
        "id": "Ms1wwW9DMT2x"
      },
      "execution_count": null,
      "outputs": []
    },
    {
      "cell_type": "markdown",
      "source": [
        "#Inheritance\n",
        "\n"
      ],
      "metadata": {
        "id": "jXt4btQwjIlE"
      }
    },
    {
      "cell_type": "code",
      "source": [
        "class Employee:\n",
        "    test = \"test1\"\n",
        "    def __init__(self,name,age,salary):\n",
        "        self.name = name\n",
        "        self.age = age\n",
        "        self.salary = salary\n",
        "\n",
        "    def personal_definition_e(self):\n",
        "           print(f\"Hi My name is {self.name},age {self.age},salary{self.salary}\")\n",
        "\n",
        "    def Career_center(self):\n",
        "           print(\"Hi, I am an Official employee \")\n",
        "\n",
        "\n",
        "class Manger(Employee):\n",
        "     def __init__(self,name,age,salary,id=\"22E\"):\n",
        "         super().__init__(name,age,salary)\n",
        "         self.id = id\n",
        "\n",
        "     def personal_definition_m(self):\n",
        "         super().personal_definition_e()\n",
        "         if \"E\" in self.id:\n",
        "             print(\"Employee!!\")\n",
        "         else:\n",
        "             print(\"Manger\")\n",
        "\n",
        "\n",
        "      #def Career_center(self):\n",
        "       #    pass\n",
        "\n",
        "\n",
        "class triner(Employee):\n",
        "      def __init__(self,name,age,Nominal_salary):\n",
        "         super().__init__(name,age,Nominal_salary)\n",
        "\n",
        "      def Career_center(self): # overriding\n",
        "         print(\"Hi, I am an Additional employee\")\n"
      ],
      "metadata": {
        "id": "JltSmUUuR998"
      },
      "execution_count": null,
      "outputs": []
    },
    {
      "cell_type": "code",
      "source": [
        "manger_1 = Manger(name=\"eshraq\", age=21, salary=1400,id=\"M11\" )\n",
        "manger_2 = Manger(name=\"eshraq\", age=21, salary=1400,id=\"E11\" )\n",
        "\n",
        "manger_1.personal_definition_m()\n",
        "manger_2.personal_definition_m()"
      ],
      "metadata": {
        "colab": {
          "base_uri": "https://localhost:8080/"
        },
        "id": "UecZf5aAmXDh",
        "outputId": "30a11903-1683-4538-973a-eac218c56052"
      },
      "execution_count": null,
      "outputs": [
        {
          "output_type": "stream",
          "name": "stdout",
          "text": [
            "Hi My name is eshraq,age 21,salary1400\n",
            "Manger\n",
            "Hi My name is eshraq,age 21,salary1400\n",
            "Employee!!\n"
          ]
        }
      ]
    },
    {
      "cell_type": "code",
      "source": [],
      "metadata": {
        "id": "CS8ZUNQ6xGHd"
      },
      "execution_count": null,
      "outputs": []
    },
    {
      "cell_type": "code",
      "source": [
        "manger_1 = Manger(name=\"eshraq\", age=21, salary=1400,id=\"M11\" )\n",
        "manger_1.Career_center()\n",
        "trine = triner(name=\"ahmad\", age=21, Nominal_salary=1400)\n",
        "trine.Career_center()\n",
        "print(\"4345\")\n",
        "employee_1 = Employee(name=\"ahmad\", age=21, salary=1400)\n",
        "employee_1.Career_center()"
      ],
      "metadata": {
        "colab": {
          "base_uri": "https://localhost:8080/"
        },
        "id": "9c9Xko6tn1K-",
        "outputId": "9cae7550-3f57-4c77-8857-54040bff6b78"
      },
      "execution_count": null,
      "outputs": [
        {
          "output_type": "stream",
          "name": "stdout",
          "text": [
            "Hi, I am an Official employee \n",
            "Hi, I am an Additional employee\n",
            "4345\n",
            "Hi, I am an Official employee \n"
          ]
        }
      ]
    },
    {
      "cell_type": "markdown",
      "source": [
        "#Polymorphism\n",
        "لما يكون اليثود بالسوبر الكلاس جينرال عام ,لاغلب ال سب كلاس , بس في بعض الكلاس الهم تنفيذ مختلف او كود مختلف لنفس الميثود تاع السوبر كلاس"
      ],
      "metadata": {
        "id": "sMlrovk5syyn"
      }
    },
    {
      "cell_type": "code",
      "source": [
        "# contains overriding"
      ],
      "metadata": {
        "id": "saCKs7kysyj-"
      },
      "execution_count": null,
      "outputs": []
    },
    {
      "cell_type": "markdown",
      "source": [
        "#Encapsulation\n",
        "ال attr and method سوا بنفس الكلاس"
      ],
      "metadata": {
        "id": "9iEpTNHVynXr"
      }
    },
    {
      "cell_type": "code",
      "source": [
        "# access modifier of attributes and methods -> (public, protected, private)\n",
        "# naming convention as __, _\n",
        "# التعامل مع ال att بناءا ع n,conversation\n",
        "# لانه فعليا ببايثون بقدر استخدم protected, private عادي\n",
        "# لهيك وجد عندي ال (n, con) انه بحكي للمبرمج اللي بعدي بزبطش تعدل ع هاذ وهيك\n"
      ],
      "metadata": {
        "id": "4jq2kJRyyqFV"
      },
      "execution_count": null,
      "outputs": []
    },
    {
      "cell_type": "code",
      "source": [
        "# public as defult -> through obj , not necessary from  insides class\n",
        "# protected -> only be accessed from insides class and subclass\n",
        "# private -> only be accessed/modification from insides class itself not thought obj or subclass ever\n",
        " # access to private attr through Mthsod public , not access to it\n",
        " # through attr/method directly as balance bank (controlling)"
      ],
      "metadata": {
        "id": "R3I4kv5xsvN6"
      },
      "execution_count": null,
      "outputs": []
    },
    {
      "cell_type": "code",
      "source": [
        "# private\n",
        "class PersonInfo:\n",
        "  def __init__(self, name, age):\n",
        "    self.__name = name # private\n",
        "    self.__age = age\n",
        "\n",
        "  def __get_name(self):\n",
        "    return self.__name\n",
        "\n",
        "  def get_age(self): # as set method to modification private attr\n",
        "    return self.__age+1\n",
        "\n",
        "\n",
        "  def get_age(self): # as get method to access private attr\n",
        "    return self.__age\n",
        "\n",
        "# also why get and set methods ??\n",
        "# They are public methods interact with private variable\n",
        "# you allow me to add a condition, because you a method, so get me a space :)"
      ],
      "metadata": {
        "id": "o5uoH5X855_L"
      },
      "execution_count": null,
      "outputs": []
    },
    {
      "cell_type": "code",
      "source": [
        "person_1 = PersonInfo(name=\"eshraq\", age=21)\n",
        "#print(person_1.name)\n",
        "#person_1.__get_name()\n",
        "person_1.get_age() # controlling -> get, set"
      ],
      "metadata": {
        "colab": {
          "base_uri": "https://localhost:8080/"
        },
        "id": "KcVD8Zcu7-jC",
        "outputId": "af718be3-6a4f-4d31-9f7c-68b7c8f65581"
      },
      "execution_count": null,
      "outputs": [
        {
          "output_type": "execute_result",
          "data": {
            "text/plain": [
              "22"
            ]
          },
          "metadata": {},
          "execution_count": 58
        }
      ]
    },
    {
      "cell_type": "code",
      "source": [
        "# obj._class__attr/method -> لا يجوز المفروض\n",
        "print(person_1._PersonInfo__name)\n",
        "print(person_1._PersonInfo__age)\n",
        "print(person_1._PersonInfo__get_name())"
      ],
      "metadata": {
        "colab": {
          "base_uri": "https://localhost:8080/"
        },
        "id": "6_vG9WyE8pBG",
        "outputId": "0803a55d-3790-4444-e298-270698a63a08"
      },
      "execution_count": null,
      "outputs": [
        {
          "output_type": "stream",
          "name": "stdout",
          "text": [
            "eshraq\n",
            "21\n",
            "eshraq\n"
          ]
        }
      ]
    },
    {
      "cell_type": "code",
      "source": [
        "# protected\n",
        "# protected as public بس ال underscore عشان التوضيح انه الاستخدام\n",
        "# داخل اللكلاس او بالسب كلاس, المفروض\n",
        "# but you can access and edit it from anywhere\n",
        "class PersonInfo_1:\n",
        "\n",
        "  def __init__(self, name, age):\n",
        "    self._name = name # protected\n",
        "    self._age = age\n",
        "\n",
        "  def _get_name(self): # protected Method\n",
        "    return self._name\n",
        "\n",
        "  def get_age(self):\n",
        "    return self._age+1\n"
      ],
      "metadata": {
        "id": "jpH6Vb4H8yGC"
      },
      "execution_count": null,
      "outputs": []
    },
    {
      "cell_type": "code",
      "source": [
        "person_2 = PersonInfo_1(name=\"eshraq\", age=21)\n",
        "print(person_2._name)\n",
        "person_2._name = \"Esraa\"\n",
        "print(person_2._name) # not Error as private\n",
        "print(person_2._get_name()) # not Error as private"
      ],
      "metadata": {
        "colab": {
          "base_uri": "https://localhost:8080/"
        },
        "id": "kJh3aWBqC1N2",
        "outputId": "ef436603-b022-4a1d-d3f5-2f839be439a9"
      },
      "execution_count": null,
      "outputs": [
        {
          "output_type": "stream",
          "name": "stdout",
          "text": [
            "eshraq\n",
            "Esraa\n",
            "Esraa\n"
          ]
        }
      ]
    },
    {
      "cell_type": "markdown",
      "source": [
        "#Abstraction"
      ],
      "metadata": {
        "id": "l8eNcOGGb5ri"
      }
    },
    {
      "cell_type": "code",
      "source": [
        "# Abstract class contains abstract methods\n",
        "\n",
        "# to gide complexity infor/oper and get me the interface(attr, method) to use it\n",
        "# signature -> is parameters\n",
        "# implemnation in subclasses, the original Mthods in superclass not contains implementation\n",
        "# a superclass contains as قالب\n",
        "\n",
        "class Sisters:\n",
        "  def name(self): # abstract method without implement\n",
        "    pass\n",
        "\n",
        "class Eshraq(Sisters):\n",
        "  def name(self): # re_defining\n",
        "    return \"The second Sister\"\n",
        "\n",
        "\n",
        "class Esraa(Sisters):\n",
        "  def name(self): # re_defining\n",
        "    return \"The first Sister\"\n"
      ],
      "metadata": {
        "id": "C89ZSB4Ib5XM"
      },
      "execution_count": null,
      "outputs": []
    },
    {
      "cell_type": "code",
      "source": [
        "sh = Eshraq()\n",
        "print(sh.name())\n",
        "ss = Esraa()\n",
        "print(ss.name())\n",
        "\n"
      ],
      "metadata": {
        "colab": {
          "base_uri": "https://localhost:8080/"
        },
        "id": "hQ-Qjg5qj8ep",
        "outputId": "8ec35840-98d3-4235-c031-364badd3dc9d"
      },
      "execution_count": null,
      "outputs": [
        {
          "output_type": "stream",
          "name": "stdout",
          "text": [
            "The second Sister\n",
            "The first Sister\n"
          ]
        }
      ]
    }
  ]
}