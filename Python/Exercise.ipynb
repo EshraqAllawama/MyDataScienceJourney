{
  "nbformat": 4,
  "nbformat_minor": 0,
  "metadata": {
    "colab": {
      "provenance": [],
      "collapsed_sections": [
        "xonqnTgbFGFP",
        "WHhodUXBi54j",
        "O8pKhPoQ03O7",
        "CPif2Sd7_HJq",
        "_PHZq5cVOTGf",
        "GNqFVFoVPw-I",
        "6J-ktIf0c7vM",
        "MY-NCY3eiPZR"
      ],
      "toc_visible": true,
      "authorship_tag": "ABX9TyM4Rmr2hs/IQAvleZRjVYO+",
      "include_colab_link": true
    },
    "kernelspec": {
      "name": "python3",
      "display_name": "Python 3"
    },
    "language_info": {
      "name": "python"
    }
  },
  "cells": [
    {
      "cell_type": "markdown",
      "metadata": {
        "id": "view-in-github",
        "colab_type": "text"
      },
      "source": [
        "<a href=\"https://colab.research.google.com/github/EshraqAllawama/MyDataScienceJourney/blob/python/Exercise.ipynb\" target=\"_parent\"><img src=\"https://colab.research.google.com/assets/colab-badge.svg\" alt=\"Open In Colab\"/></a>"
      ]
    },
    {
      "cell_type": "markdown",
      "source": [
        "#Second Session"
      ],
      "metadata": {
        "id": "xonqnTgbFGFP"
      }
    },
    {
      "cell_type": "markdown",
      "source": [
        "EX 1 ->\n",
        "TotalProfit=TotalRevenue−TotalExpenses"
      ],
      "metadata": {
        "id": "sL2H6YaLGmts"
      }
    },
    {
      "cell_type": "code",
      "execution_count": null,
      "metadata": {
        "id": "9qUB7FoQE77P"
      },
      "outputs": [],
      "source": [
        "total_revenue,total_expenses = float(input(\"Enter the Total_Revenue :\")),float(input(\"Enter the Total_Expenses :\"))\n",
        "total_profit = total_revenue - total_expenses\n",
        "#print(\"The Total_Profut ={} JOD\".format(total_profit))\n",
        "print(f\"The Total_Profut ={total_profit} JOD\")"
      ]
    },
    {
      "cell_type": "markdown",
      "source": [
        "EX 2 ->\n",
        "RR=Vf−Vi/Vi×100%"
      ],
      "metadata": {
        "id": "DcLPDVJdGwQQ"
      }
    },
    {
      "cell_type": "code",
      "source": [
        "\n",
        "def rate(input_future_stock_price):\n",
        "  \"\"\"to calculate the Rate of Return\n",
        "\n",
        "  parameters\n",
        "  ----------\n",
        "  input_future_stock_price : int or float\n",
        "      The stock price expected in the future by the user\n",
        "\n",
        "  returns\n",
        "  -------\n",
        "  rate_of_return : int or float\n",
        "\n",
        "  \"\"\"\n",
        "  STOCK_PRICE_ON_JAN = 63.48\n",
        "  rate_of_return =(input_future_stock_price - STOCK_PRICE_ON_JAN)/STOCK_PRICE_ON_JAN\n",
        "  rate_of_return *= 100\n",
        "  #print(\"The Rate of return = {:2f}%\".format(rate_of_return))\n",
        "  print(f\"The Rate of return = {rate_of_return:.2f}%\")\n",
        "\n",
        "  return rate_of_return"
      ],
      "metadata": {
        "id": "IrWiGRGKFQP7"
      },
      "execution_count": null,
      "outputs": []
    },
    {
      "cell_type": "code",
      "source": [
        "future_stock_price = float(input(\"Enter the Future Stock Price :\"))\n",
        "test = rate(future_stock_price) >= 0\n",
        "print(\"if the result is false negative otherwise positive , the result is : \",test, sep =\"\")"
      ],
      "metadata": {
        "id": "DneJcH9fFSBw",
        "colab": {
          "base_uri": "https://localhost:8080/"
        },
        "outputId": "cf80f71d-ad43-4314-95cb-19de4851260c"
      },
      "execution_count": null,
      "outputs": [
        {
          "output_type": "stream",
          "name": "stdout",
          "text": [
            "Enter the Future Stock Price :6666\n",
            "The Rate of return = 10400.95%\n",
            "if the result is false negative otherwise positive , the result is : True\n"
          ]
        }
      ]
    },
    {
      "cell_type": "code",
      "source": [
        "rate(future_stock_price)"
      ],
      "metadata": {
        "colab": {
          "base_uri": "https://localhost:8080/"
        },
        "id": "hBxc86GmXPkU",
        "outputId": "dc971134-90d2-4e3a-8cbe-be7d9c571709"
      },
      "execution_count": null,
      "outputs": [
        {
          "output_type": "stream",
          "name": "stdout",
          "text": [
            "The Rate of return = -48.01512287334593%\n"
          ]
        },
        {
          "output_type": "execute_result",
          "data": {
            "text/plain": [
              "-48.01512287334593"
            ]
          },
          "metadata": {},
          "execution_count": 5
        }
      ]
    },
    {
      "cell_type": "code",
      "source": [
        "help(rate)"
      ],
      "metadata": {
        "id": "45AoW63QQQ8T"
      },
      "execution_count": null,
      "outputs": []
    },
    {
      "cell_type": "markdown",
      "source": [
        "EX 3 ->\n",
        "Hello [user name],\n",
        "\n",
        "Happy birthday! You're [age] years old now :)\n",
        "\n",
        "Do you need to find a nice restaurant in [city name] to celebrate?\n"
      ],
      "metadata": {
        "id": "CKxZJJ3CIjnb"
      }
    },
    {
      "cell_type": "code",
      "source": [
        "# The First attemp\n",
        "user_name,age,city_name = input(\"Enter your Name : \").capitalize(),input(\"Enter your Age : \"),input(\"Enter your city name :\")\n",
        "print(f\"Hello {user_name}\",\n",
        "      f\"Happy birthday! You're {age} years old now :)\",\n",
        "      f\"Do you need to find a nice restaurant in {city_name.capitalize()} to celebrate?\",sep = \"\\n\")\n",
        "\n"
      ],
      "metadata": {
        "id": "pxzSediCFVJu",
        "colab": {
          "base_uri": "https://localhost:8080/"
        },
        "outputId": "c92f4750-03b7-4e17-e698-e43c16a58054"
      },
      "execution_count": null,
      "outputs": [
        {
          "output_type": "stream",
          "name": "stdout",
          "text": [
            "Enter your Name : eshraq\n",
            "Enter your Age : 32\n",
            "Enter your city name :erwe\n",
            "Hello Eshraq\n",
            "Happy birthday! You're 32 years old now :)\n",
            "Do you need to find a nice restaurant in Erwe to celebrate?\n"
          ]
        }
      ]
    },
    {
      "cell_type": "code",
      "source": [
        "# The Second attemp\n",
        "def Printer():\n",
        "  \"\"\"To print the output from the user\n",
        "\n",
        "  \"\"\"\n",
        "  print(f\"Hello {user_name}\",\n",
        "        f\"Happy birthday! You're {age} years old now :)\",\n",
        "        f\"Do you need to find a nice restaurant in {city_name} to celebrate?\",sep = \"\\n\")\n",
        "\n",
        "def Return_Enter():\n",
        "  \"\"\"To take Input from the user\n",
        "\n",
        "  \"\"\"\n",
        "  global user_name ,age,city_name\n",
        "  user_name,age,city_name = input(\"Enter your Name : \"),input(\"Enter your Age : \"),input(\"Enter your city name :\")\n"
      ],
      "metadata": {
        "id": "6RLnYlZWFXFu"
      },
      "execution_count": null,
      "outputs": []
    },
    {
      "cell_type": "code",
      "source": [
        "help(Printer)"
      ],
      "metadata": {
        "id": "b4f1ZayDFYvG"
      },
      "execution_count": null,
      "outputs": []
    },
    {
      "cell_type": "code",
      "source": [
        "Return_Enter()\n",
        "while(True):\n",
        "  if (user_name.capitalize() == user_name and city_name.capitalize() == city_name):\n",
        "    Printer()\n",
        "    break\n",
        "  else:\n",
        "    print(\"plez return Enter your info :( \")\n",
        "    Return_Enter()"
      ],
      "metadata": {
        "id": "7avB556mFaV-",
        "colab": {
          "base_uri": "https://localhost:8080/"
        },
        "outputId": "96d93312-696f-46fc-dfb3-6d746b5c8c41"
      },
      "execution_count": null,
      "outputs": [
        {
          "output_type": "stream",
          "name": "stdout",
          "text": [
            "Enter your Name : werwe\n",
            "Enter your Age : 4234\n",
            "Enter your city name :rwer\n",
            "plez return Enter your info :( \n",
            "Enter your Name : Eshraq\n",
            "Enter your Age : 232\n",
            "Enter your city name :SDFs\n",
            "plez return Enter your info :( \n",
            "Enter your Name : Eshraq\n",
            "Enter your Age : 23432\n",
            "Enter your city name :Ertrter\n",
            "Hello Eshraq\n",
            "Happy birthday! You're 23432 years old now :)\n",
            "Do you need to find a nice restaurant in Ertrter to celebrate?\n"
          ]
        }
      ]
    },
    {
      "cell_type": "markdown",
      "source": [
        "#Third Session"
      ],
      "metadata": {
        "id": "WHhodUXBi54j"
      }
    },
    {
      "cell_type": "markdown",
      "source": [
        "##string"
      ],
      "metadata": {
        "id": "O8pKhPoQ03O7"
      }
    },
    {
      "cell_type": "markdown",
      "source": [
        "1-\n",
        "Write a function to count the number of vowels in a given string.\n"
      ],
      "metadata": {
        "id": "veIiuuzn4DSc"
      }
    },
    {
      "cell_type": "code",
      "source": [
        "# First attempt\n",
        "def count_vowels_test2(word):\n",
        "  \"\"\"to count the volwes in the word\n",
        "\n",
        "    parameters\n",
        "    ----------\n",
        "    word : str\n",
        "\n",
        "    returns\n",
        "    -------\n",
        "    sum : int\n",
        "\n",
        "  \"\"\"\n",
        "  return sum([1 for char in word if char.lower() in \"aouei\"])"
      ],
      "metadata": {
        "id": "YLEiTIti2XHX"
      },
      "execution_count": null,
      "outputs": []
    },
    {
      "cell_type": "code",
      "source": [
        "count_vowels_test2(\"esheraaq\")"
      ],
      "metadata": {
        "id": "49GQ36jv2zCH",
        "colab": {
          "base_uri": "https://localhost:8080/"
        },
        "outputId": "4a003983-cac2-41c0-faac-bc79bb84a0fb"
      },
      "execution_count": null,
      "outputs": [
        {
          "output_type": "execute_result",
          "data": {
            "text/plain": [
              "2"
            ]
          },
          "metadata": {},
          "execution_count": 8
        }
      ]
    },
    {
      "cell_type": "code",
      "source": [
        "# Second attempt\n",
        "def count_vowels(word):\n",
        "  \"\"\"To count the volwes in the word\n",
        "\n",
        "    parameters\n",
        "    ----------\n",
        "    word : str\n",
        "\n",
        "    returns\n",
        "    -------\n",
        "    sum : int\n",
        "\n",
        "  \"\"\"\n",
        "  counter = 0\n",
        "  for char in word:\n",
        "    if char.lower() in \"aouei\":\n",
        "      counter += 1\n",
        "  return counter"
      ],
      "metadata": {
        "id": "wef7WQaui9at"
      },
      "execution_count": null,
      "outputs": []
    },
    {
      "cell_type": "code",
      "source": [
        "count_vowels(\"eshraq\")"
      ],
      "metadata": {
        "id": "CbgG2hTy1Wvv"
      },
      "execution_count": null,
      "outputs": []
    },
    {
      "cell_type": "code",
      "source": [
        "count_vowels(\"AhmAAd\")"
      ],
      "metadata": {
        "id": "HxcFXnB62QCy"
      },
      "execution_count": null,
      "outputs": []
    },
    {
      "cell_type": "markdown",
      "source": [
        "2-\n",
        "Write a function that takes a string and returns the same string but with every second letter capitalized"
      ],
      "metadata": {
        "id": "cvekkomq3_Zd"
      }
    },
    {
      "cell_type": "code",
      "source": [
        "def capitalize_second_letter(text):\n",
        "  \"\"\"To capitalize any second letter in any word in one text\n",
        "\n",
        "    parameters\n",
        "    ----------\n",
        "    text : str\n",
        "       Has more than one word or word\n",
        "\n",
        "    returns\n",
        "    -------\n",
        "    new_text : str\n",
        "\n",
        "  \"\"\"\n",
        "  new_text = []\n",
        "  text_to_list = text.split()\n",
        "  for word in text_to_list:\n",
        "      new_word = \"\"\n",
        "      for char in range(len(word)):\n",
        "          if char == 1:\n",
        "              new_word += word[char].upper()\n",
        "          else:\n",
        "              new_word += word[char]\n",
        "      new_text.append(new_word)\n",
        "  return \" \".join(new_text)"
      ],
      "metadata": {
        "id": "ncq3FI6N27m9"
      },
      "execution_count": null,
      "outputs": []
    },
    {
      "cell_type": "code",
      "source": [
        "print(capitalize_second_letter(\"hello world\"))"
      ],
      "metadata": {
        "id": "fo5HHg2w37mm"
      },
      "execution_count": null,
      "outputs": []
    },
    {
      "cell_type": "code",
      "source": [
        "def capitalize_second_letter_2(word):\n",
        "  new_word = \"\"\n",
        "  for index,char in enumerate(word):\n",
        "      if index % 2 == 1:\n",
        "          new_word += char.upper()\n",
        "      else:\n",
        "          new_word += char\n",
        "  return new_word"
      ],
      "metadata": {
        "id": "9QTjuLN6yu5w"
      },
      "execution_count": null,
      "outputs": []
    },
    {
      "cell_type": "code",
      "source": [
        "def capitalize_second_letter_2(word):\n",
        "    return \"\".join([char.upper() if index % 2 else char for index,char in enumerate(word)])\n"
      ],
      "metadata": {
        "id": "3zbdksnVz8NA"
      },
      "execution_count": null,
      "outputs": []
    },
    {
      "cell_type": "code",
      "source": [
        "capitalize_second_letter_2(\"eshraq\")"
      ],
      "metadata": {
        "colab": {
          "base_uri": "https://localhost:8080/",
          "height": 35
        },
        "id": "XM4i5sD-zzeo",
        "outputId": "e56ee372-7b99-49d5-cf3d-6d632c59e877"
      },
      "execution_count": null,
      "outputs": [
        {
          "output_type": "execute_result",
          "data": {
            "text/plain": [
              "'eShRaQ'"
            ],
            "application/vnd.google.colaboratory.intrinsic+json": {
              "type": "string"
            }
          },
          "metadata": {},
          "execution_count": 32
        }
      ]
    },
    {
      "cell_type": "markdown",
      "source": [
        "##List"
      ],
      "metadata": {
        "id": "CPif2Sd7_HJq"
      }
    },
    {
      "cell_type": "markdown",
      "source": [
        "1-\n",
        "Write a function that takes a list of numbers and returns a new list containing only the even numbers.\n"
      ],
      "metadata": {
        "id": "mG0uLVzZ_Y-s"
      }
    },
    {
      "cell_type": "code",
      "source": [
        "def even_number(numbers):\n",
        "  \"\"\"To find the even numbers in the list\n",
        "\n",
        "  parameters\n",
        "  ----------\n",
        "  numbers : list\n",
        "    contain random numbers\n",
        "\n",
        "  returns\n",
        "  -------\n",
        "  [n for n in numbers if n%2 == 0 ]\n",
        "\n",
        "  \"\"\"\n",
        "  return [n for n in numbers if n%2 == 0 ]"
      ],
      "metadata": {
        "id": "HeY4UOpd_qsH"
      },
      "execution_count": null,
      "outputs": []
    },
    {
      "cell_type": "code",
      "source": [
        "even_number([2, 2.2, 5, 7, 88, 53, 34])"
      ],
      "metadata": {
        "id": "g6hndzSUADwv"
      },
      "execution_count": null,
      "outputs": []
    },
    {
      "cell_type": "markdown",
      "source": [
        "2-\n",
        "Write a function that takes a list and returns a new list with duplicate values removed."
      ],
      "metadata": {
        "id": "Q4uhtlKMAbgd"
      }
    },
    {
      "cell_type": "code",
      "source": [
        "def remove_duplicate(numbers):\n",
        "  \"\"\"To delete the duplicate numbers in the list\n",
        "\n",
        "  parameters\n",
        "  ----------\n",
        "  numbers : list\n",
        "    contain the duplicate numbers\n",
        "\n",
        "  returns\n",
        "  -------\n",
        "  list(set(numbers))\n",
        "     I use the set to remove the duplicate numbers\n",
        "\n",
        "  \"\"\"\n",
        "  return list(set(numbers))"
      ],
      "metadata": {
        "id": "sxI9ffYs_Ipw"
      },
      "execution_count": null,
      "outputs": []
    },
    {
      "cell_type": "code",
      "source": [
        "remove_duplicate([2, 3, 4, 5, 4, 5, 99, \"a\", \"v\", \"a\"])"
      ],
      "metadata": {
        "id": "vJgppKTzA2Gx",
        "colab": {
          "base_uri": "https://localhost:8080/"
        },
        "outputId": "9e57242e-6fe8-4a4d-8fb9-9a479a3e1562"
      },
      "execution_count": null,
      "outputs": [
        {
          "output_type": "execute_result",
          "data": {
            "text/plain": [
              "[2, 99, 3, 4, 5, 'a', 'v']"
            ]
          },
          "metadata": {},
          "execution_count": 34
        }
      ]
    },
    {
      "cell_type": "markdown",
      "source": [
        "## set"
      ],
      "metadata": {
        "id": "_PHZq5cVOTGf"
      }
    },
    {
      "cell_type": "markdown",
      "source": [
        "1-\n",
        "Write a function that takes two sets and returns their intersection as a new set.\n"
      ],
      "metadata": {
        "id": "Vjjm6ZL8OUv3"
      }
    },
    {
      "cell_type": "code",
      "source": [
        "def intersectio_n(set_1, set_2):\n",
        "  \"\"\"To find the intersection of two sets\n",
        "\n",
        "  parameters\n",
        "  ----------\n",
        "  set_1, set_2 : set\n",
        "\n",
        "  returns\n",
        "  -------\n",
        "  set_1.intersection(set_2)\n",
        "     Shared numbers\n",
        "\n",
        "  \"\"\"\n",
        "  return set_1.intersection(set_2)"
      ],
      "metadata": {
        "id": "YREJTcuFOsCA"
      },
      "execution_count": null,
      "outputs": []
    },
    {
      "cell_type": "code",
      "source": [
        "intersectio_n({1, 2, 3},{3, 5, 7, 9})"
      ],
      "metadata": {
        "id": "grqO_g8nO8DH"
      },
      "execution_count": null,
      "outputs": []
    },
    {
      "cell_type": "markdown",
      "source": [
        "2-Write a function that takes two sets and returns their union as a new set"
      ],
      "metadata": {
        "id": "jxD9xx84PNf7"
      }
    },
    {
      "cell_type": "code",
      "source": [
        "def unio_n(set_1, set_2):\n",
        "  \"\"\"To find the union of two sets\n",
        "\n",
        "  parameters\n",
        "  ----------\n",
        "  set_1, set_2 : set\n",
        "\n",
        "  returns\n",
        "  -------\n",
        "  set_1.union(set_2)\n",
        "     All numbers without duplicate\n",
        "  \"\"\"\n",
        "  return set_1 | set_2"
      ],
      "metadata": {
        "id": "mYe6zj4jORl-"
      },
      "execution_count": null,
      "outputs": []
    },
    {
      "cell_type": "code",
      "source": [
        "unio_n({1, 2, 3},{3, 5, 7, 9})"
      ],
      "metadata": {
        "id": "HevYtLeFPe3Q",
        "colab": {
          "base_uri": "https://localhost:8080/"
        },
        "outputId": "28e29d4f-ef94-4be5-c2b1-e7752a097995"
      },
      "execution_count": null,
      "outputs": [
        {
          "output_type": "execute_result",
          "data": {
            "text/plain": [
              "{1, 2, 3, 5, 7, 9}"
            ]
          },
          "metadata": {},
          "execution_count": 36
        }
      ]
    },
    {
      "cell_type": "markdown",
      "source": [
        "##tuple"
      ],
      "metadata": {
        "id": "GNqFVFoVPw-I"
      }
    },
    {
      "cell_type": "markdown",
      "source": [
        "1-\n",
        "Write a function that takes a list of tuples and sorts them based on the second element of each tuple.\n"
      ],
      "metadata": {
        "id": "1NgWyegcP8VW"
      }
    },
    {
      "cell_type": "code",
      "source": [
        "def sorted(list_1):\n",
        "  \"\"\"To sort the list\n",
        "\n",
        "  To sort the list of tuple Ascending order ,\n",
        "   based on the second element in the tuple\n",
        "\n",
        "  parameters\n",
        "  ----------\n",
        "  list_1 : list\n",
        "\n",
        "  returns\n",
        "  -------\n",
        "  list_1 : list\n",
        "     the same list but sorted\n",
        "\n",
        "  \"\"\"\n",
        "  temporary = 0\n",
        "  for n1 in range(len(list_1)-1): #2\n",
        "     for n2 in range(n1+1,len(list_1)): #3\n",
        "          if list_1[n1][1] > list_1[n2][1]:\n",
        "            temporary = list_1[n1]\n",
        "            list_1[n1] = list_1[n2]\n",
        "            list_1[n2] = temporary\n",
        "  return list_1\n"
      ],
      "metadata": {
        "id": "F9_9YBR0QBZ7"
      },
      "execution_count": null,
      "outputs": []
    },
    {
      "cell_type": "code",
      "source": [
        "list_1 = [(43, 3), (55, 6), (32, 0), (87, 4), (100, 9)]\n",
        "sorted(list_1)"
      ],
      "metadata": {
        "id": "bzzIs6W2byxa",
        "colab": {
          "base_uri": "https://localhost:8080/"
        },
        "outputId": "7141ed6f-c017-4115-9b4b-a05b35ebda01"
      },
      "execution_count": null,
      "outputs": [
        {
          "output_type": "execute_result",
          "data": {
            "text/plain": [
              "[(32, 0), (43, 3), (55, 6), (87, 4), (100, 9)]"
            ]
          },
          "metadata": {},
          "execution_count": 112
        }
      ]
    },
    {
      "cell_type": "code",
      "source": [
        "def sorting(list_1):\n",
        "  return list_1[1]\n",
        "def sorted_2(list_1):\n",
        "  #return sorted(list_1, key = lambda item: item[1], reverse = False)\n",
        "  return sorted(list_1, key = sorting, reverse = False)\n"
      ],
      "metadata": {
        "id": "7i9KC5LRMFIP"
      },
      "execution_count": null,
      "outputs": []
    },
    {
      "cell_type": "code",
      "source": [
        "sorted_2(list_1)"
      ],
      "metadata": {
        "colab": {
          "base_uri": "https://localhost:8080/"
        },
        "id": "-iFfD3EkP2wo",
        "outputId": "534c3052-138d-4445-f3a8-65c70fa50204"
      },
      "execution_count": null,
      "outputs": [
        {
          "output_type": "execute_result",
          "data": {
            "text/plain": [
              "[(32, 0), (43, 3), (87, 4), (55, 6), (100, 9)]"
            ]
          },
          "metadata": {},
          "execution_count": 113
        }
      ]
    },
    {
      "cell_type": "markdown",
      "source": [
        "2-\n",
        "Write a function that takes a tuple and returns a reversed version of that tuple."
      ],
      "metadata": {
        "id": "pjEXQcfAQBmV"
      }
    },
    {
      "cell_type": "code",
      "source": [
        "reverse = lambda tup: tup [::-1]\n",
        "reverse.__doc__ = \"\"\"\n",
        " To reverse the tuple, string, or any DS used the indices in this way\n",
        "\n",
        " parameters\n",
        " ----------\n",
        " tup : tuple, str, list\n",
        "\n",
        " returns\n",
        " -------\n",
        " tup [::-1] : list, str, tuple\n",
        "\"\"\""
      ],
      "metadata": {
        "id": "0EHBET1Sb4pS"
      },
      "execution_count": null,
      "outputs": []
    },
    {
      "cell_type": "code",
      "source": [
        "help(reverse)"
      ],
      "metadata": {
        "id": "5LuB_HwgYG9l"
      },
      "execution_count": null,
      "outputs": []
    },
    {
      "cell_type": "code",
      "source": [
        "reverse((1, 2, 3, 4, 5, 2, 1, 3))"
      ],
      "metadata": {
        "id": "X6qktkUicQ9w"
      },
      "execution_count": null,
      "outputs": []
    },
    {
      "cell_type": "markdown",
      "source": [
        "##Dictionary\n",
        "\n",
        "\n"
      ],
      "metadata": {
        "id": "6J-ktIf0c7vM"
      }
    },
    {
      "cell_type": "markdown",
      "source": [
        "Write a function that takes a dictionary and returns the keys and values as separate lists"
      ],
      "metadata": {
        "id": "sjq6Yw7Md_KQ"
      }
    },
    {
      "cell_type": "code",
      "source": [
        "def keys_values(dict_1):\n",
        "  \"\"\"To return keys and values from dictionary if you need\n",
        "\n",
        "  parameters\n",
        "  ----------\n",
        "  dict_1 : dict\n",
        "\n",
        "  returns\n",
        "  -------\n",
        "   dict_1.keys : list\n",
        "      both keys and values in the tuple\n",
        "   dict_1.values : list\n",
        "\n",
        "  \"\"\"\n",
        "  return list(dict_1.keys()), list(dict_1.values())"
      ],
      "metadata": {
        "id": "o04uyaHedEYP"
      },
      "execution_count": null,
      "outputs": []
    },
    {
      "cell_type": "code",
      "source": [
        "keys, values = keys_values({\"A\": 2, \"B\": 3, \"C\":6})\n",
        "# unpacking"
      ],
      "metadata": {
        "id": "Eyp3C5kOdSjC"
      },
      "execution_count": null,
      "outputs": []
    },
    {
      "cell_type": "code",
      "source": [
        "print(keys, values, sep = \"\\n\")"
      ],
      "metadata": {
        "colab": {
          "base_uri": "https://localhost:8080/"
        },
        "id": "UitaoNfgUwcH",
        "outputId": "cf46fc1b-68a9-4436-c4c0-652fdb092b1c"
      },
      "execution_count": null,
      "outputs": [
        {
          "output_type": "stream",
          "name": "stdout",
          "text": [
            "['A', 'B', 'C']\n",
            "[2, 3, 6]\n"
          ]
        }
      ]
    },
    {
      "cell_type": "markdown",
      "source": [
        "Write a function that takes a dictionary and a key, and if the key exists in the dictionary, return its value. If the key does not exist, return a default value."
      ],
      "metadata": {
        "id": "5osKCgJEeCop"
      }
    },
    {
      "cell_type": "code",
      "source": [
        "def getter(dict_1):\n",
        "  \"\"\" to find the value for key\n",
        "\n",
        "  if you don't find it, there is an optional value\n",
        "\n",
        "  parameters\n",
        "  ----------\n",
        "  dict_1 : dict\n",
        "  defult_value : str , optional\n",
        "\n",
        "  returns\n",
        "  -------\n",
        "  dict_1.get(input(\"Enter the key :\"),defult_value) : int, str\n",
        "\n",
        "  \"\"\"\n",
        "  return dict_1.get(input(\"Enter the key :\"),int(input(\"Enter the defult_v :\")))"
      ],
      "metadata": {
        "id": "beyJATs1eD-H"
      },
      "execution_count": null,
      "outputs": []
    },
    {
      "cell_type": "code",
      "source": [
        "def gett_2(dict_1, k, defult = None ):\n",
        "    return dict_1[k]  if k in dict_1 else defult\n",
        "    # you can not exist two return in one line\n",
        "\n",
        "\n",
        "\n",
        "print(gett_2({\"A\": 2, \"B\": 3, \"C\":6}, input(\"Enter key :\")))"
      ],
      "metadata": {
        "colab": {
          "base_uri": "https://localhost:8080/"
        },
        "id": "NXc_14GrX1zL",
        "outputId": "08a9cbb2-2d19-43b4-963c-99c458f4198a"
      },
      "execution_count": null,
      "outputs": [
        {
          "output_type": "stream",
          "name": "stdout",
          "text": [
            "Enter key :z\n",
            "None\n"
          ]
        }
      ]
    },
    {
      "cell_type": "code",
      "source": [
        "get({\"A\": 2, \"B\": 3, \"C\":6})"
      ],
      "metadata": {
        "id": "eJK6I3bAgAoC",
        "colab": {
          "base_uri": "https://localhost:8080/",
          "height": 70
        },
        "outputId": "35962cfc-b60b-45a1-e31a-e7b689fd1dbc"
      },
      "execution_count": null,
      "outputs": [
        {
          "name": "stdout",
          "output_type": "stream",
          "text": [
            "Enter the key :N\n",
            "Enter the defult_v :3\n"
          ]
        },
        {
          "output_type": "execute_result",
          "data": {
            "text/plain": [
              "'3'"
            ],
            "application/vnd.google.colaboratory.intrinsic+json": {
              "type": "string"
            }
          },
          "metadata": {},
          "execution_count": 84
        }
      ]
    },
    {
      "cell_type": "markdown",
      "source": [
        "##Conditional Statements, Loops, and Functions"
      ],
      "metadata": {
        "id": "MY-NCY3eiPZR"
      }
    },
    {
      "cell_type": "markdown",
      "source": [
        "Task 1: Write a program that takes two numbers as inputs from the user and prints their sum."
      ],
      "metadata": {
        "id": "_Qlsj2Iwigys"
      }
    },
    {
      "cell_type": "code",
      "source": [
        "su_m = lambda n1,n2:n1+n2\n",
        "su_m.__doc__ = \"\"\"\n",
        "To find the sum of two numbers(n1, n2)\n",
        "\n",
        "parameters\n",
        "----------\n",
        "n1,n2 : int, float\n",
        "\n",
        "returns\n",
        "-------\n",
        "n1+n2 : int, float\n",
        "\n",
        "\"\"\"\n",
        "print(su_m(int(input(\"Enter the First number :\")),int(input(\"Enter the Second number :\"))),sep = \"\\n\")"
      ],
      "metadata": {
        "id": "hXYycvYtih79"
      },
      "execution_count": null,
      "outputs": []
    },
    {
      "cell_type": "markdown",
      "source": [
        "Task 2: Write a program that takes an integer input from the user. Use a for loop to print all numbers from that integer down to 0."
      ],
      "metadata": {
        "id": "p33lYM-PjNpW"
      }
    },
    {
      "cell_type": "code",
      "source": [
        "number_1 = int(input(\"Enter a number :\"))\n",
        "for n1 in range(number_1, -1, -1):\n",
        "    print(n1)"
      ],
      "metadata": {
        "id": "ZGtdfFmMjOcc"
      },
      "execution_count": null,
      "outputs": []
    },
    {
      "cell_type": "markdown",
      "source": [
        "Task 3: Write a program that takes an integer input from the user. Use a while loop to keep doubling the number until it is greater than 1000, then print the result."
      ],
      "metadata": {
        "id": "Jgz8cD78joB0"
      }
    },
    {
      "cell_type": "code",
      "source": [
        "number_1 = int(input(\"Enter the number :\"))\n",
        "while(number_1 <= 1000):\n",
        "    number_1 *= 2\n",
        "print(number_1)"
      ],
      "metadata": {
        "id": "8YQijsuojo7O",
        "colab": {
          "base_uri": "https://localhost:8080/"
        },
        "outputId": "d657d259-cecb-4bb8-f4b6-b22f63d1c987"
      },
      "execution_count": null,
      "outputs": [
        {
          "output_type": "stream",
          "name": "stdout",
          "text": [
            "Enter the number :500\n",
            "2000\n"
          ]
        }
      ]
    },
    {
      "cell_type": "markdown",
      "source": [
        "\n",
        "Task 4: Write a function that takes a number as input and returns the square of the number. Use it in a program that takes an input from the user and prints the square.\n"
      ],
      "metadata": {
        "id": "USVM-vRhkpyn"
      }
    },
    {
      "cell_type": "code",
      "source": [
        "def square(number):\n",
        "  \"\"\"To find the square of the number\n",
        "\n",
        "  parameters\n",
        "  ----------\n",
        "  number : int or float\n",
        "\n",
        "  returns\n",
        "  -------\n",
        "  m.sqrt(number) : int or float\n",
        "\n",
        "  \"\"\"\n",
        "  if number < 0:\n",
        "      number *= -1\n",
        "\n",
        "  return number * number"
      ],
      "metadata": {
        "id": "hftmctjXkIR8"
      },
      "execution_count": null,
      "outputs": []
    },
    {
      "cell_type": "code",
      "source": [
        "square(float(input(\"Enter the number :\")))"
      ],
      "metadata": {
        "id": "fYPdlGMCkUDm",
        "colab": {
          "base_uri": "https://localhost:8080/"
        },
        "outputId": "feb64e55-6335-426f-d1f0-27b08aad0a8b"
      },
      "execution_count": null,
      "outputs": [
        {
          "name": "stdout",
          "output_type": "stream",
          "text": [
            "Enter the number :-4\n"
          ]
        },
        {
          "output_type": "execute_result",
          "data": {
            "text/plain": [
              "16.0"
            ]
          },
          "metadata": {},
          "execution_count": 11
        }
      ]
    },
    {
      "cell_type": "markdown",
      "source": [
        "Task 5: Write a program that takes a number as input from the user. If the number is greater than 10, print \"Big number\". If the number is less than or equal to 10, print \"Small number\"."
      ],
      "metadata": {
        "id": "UcES1RKYlit2"
      }
    },
    {
      "cell_type": "code",
      "source": [
        "number_1 = int(input(\"Enter the number :\"))\n",
        "if number_1>10:\n",
        "    print(\"Big number\")\n",
        "else:\n",
        "    print(\"Small number\")"
      ],
      "metadata": {
        "id": "3z8bSNGflcWL"
      },
      "execution_count": null,
      "outputs": []
    },
    {
      "cell_type": "code",
      "source": [
        "number_1 = int(input(\"Enter the number :\"))\n",
        "if number_1>10:\n",
        "    print(\"Big number\")\n",
        "elif number_1 == 10:\n",
        "    print(\"Equal to 10\")\n",
        "else:\n",
        "    print(\"Small number\")"
      ],
      "metadata": {
        "id": "5O2Rppfr94xt"
      },
      "execution_count": null,
      "outputs": []
    },
    {
      "cell_type": "markdown",
      "source": [
        "Task 6: Write a function that takes two numbers as inputs and returns their product. Use this function in a program that takes two inputs from the user and prints the product."
      ],
      "metadata": {
        "id": "R5uEgZCdmnTh"
      }
    },
    {
      "cell_type": "code",
      "source": [
        "product = lambda n1, n2:n1 * n2\n",
        "product.__doc__ = \"\"\"\n",
        "To find the product of two numbers\n",
        "\n",
        "parameters\n",
        "----------\n",
        "n1,n2 : int or float\n",
        "\n",
        "returns\n",
        "-------\n",
        "n1*n2 : int or float\n",
        "\"\"\"\n",
        "print(product(int(input(\"Enter the First number :\")),int(input(\"Enter the Second number :\"))),sep = \"\\n\")"
      ],
      "metadata": {
        "id": "qlgdfVSymzg3"
      },
      "execution_count": null,
      "outputs": []
    },
    {
      "cell_type": "markdown",
      "source": [
        "\n",
        "Task 7: Write a program that uses a while loop to take a number as input from the user, subtract 5, and print the result. Continue this until the result is less than 0."
      ],
      "metadata": {
        "id": "YyZmJ771nD81"
      }
    },
    {
      "cell_type": "code",
      "source": [
        "number_1 = int(input(\"Enter the number :\"))\n",
        "while number_1 >= 0:\n",
        "  number_1 -= 5\n",
        "  print(number_1)"
      ],
      "metadata": {
        "id": "aVCzubQJnEux"
      },
      "execution_count": null,
      "outputs": []
    },
    {
      "cell_type": "markdown",
      "source": [
        "Task 8: Write a program that uses a for loop to take an integer input from the user and print the factorial of that number."
      ],
      "metadata": {
        "id": "eGGTgz9Lnuoz"
      }
    },
    {
      "cell_type": "code",
      "source": [
        "def factorial(number_1):\n",
        "  \"\"\"To find the fectorial of number_1\n",
        "\n",
        "  parameters\n",
        "  ----------\n",
        "  number_1 : int\n",
        "\n",
        "  returns\n",
        "  -------\n",
        "  number_1*factorial(number_1-1) : int\n",
        "\n",
        "  1 : int\n",
        "\n",
        "  \"\"\"\n",
        "  if number_1 != 1:\n",
        "      return number_1*factorial(number_1-1)\n",
        "  else:\n",
        "      return 1"
      ],
      "metadata": {
        "id": "4eWiR9mziOei"
      },
      "execution_count": null,
      "outputs": []
    },
    {
      "cell_type": "code",
      "source": [
        "def factorial_2(number_1):\n",
        "    fectorial = 1\n",
        "\n",
        "    for num in range(1,number_1 + 1):\n",
        "        fectorial *= num\n",
        "\n",
        "    return fectorial"
      ],
      "metadata": {
        "id": "p0nNnbLkAL82"
      },
      "execution_count": null,
      "outputs": []
    },
    {
      "cell_type": "code",
      "source": [
        "factorial_2(int(input(\"Enter the number :\")))"
      ],
      "metadata": {
        "colab": {
          "base_uri": "https://localhost:8080/"
        },
        "id": "Us9OgUrYAmrL",
        "outputId": "cb027499-ab5d-420a-92e1-1e375e0fa94f"
      },
      "execution_count": null,
      "outputs": [
        {
          "name": "stdout",
          "output_type": "stream",
          "text": [
            "Enter the number :4\n"
          ]
        },
        {
          "output_type": "execute_result",
          "data": {
            "text/plain": [
              "24"
            ]
          },
          "metadata": {},
          "execution_count": 21
        }
      ]
    },
    {
      "cell_type": "code",
      "source": [
        "factorial(int(input(\"Enter the number :\")))"
      ],
      "metadata": {
        "id": "Q7QgpcPyoYGX"
      },
      "execution_count": null,
      "outputs": []
    },
    {
      "cell_type": "markdown",
      "source": [
        "\n",
        "Task 9: Write a program that takes a number as input from the user. If the number is positive, print \"Positive\". If the number is negative, print \"Negative\". If the number is zero, print \"Zero\"."
      ],
      "metadata": {
        "id": "ZhxW0JV_po0h"
      }
    },
    {
      "cell_type": "code",
      "source": [
        "number_1 = int(input(\"Enter the number :\"))\n",
        "if number_1>0:\n",
        "  print(\"Positive\")\n",
        "elif number_1<0:\n",
        "  print(\"Negative\")\n",
        "else:\n",
        "  print(\"Zero\")"
      ],
      "metadata": {
        "id": "Tkpw7CfepEuz"
      },
      "execution_count": null,
      "outputs": []
    },
    {
      "cell_type": "markdown",
      "source": [
        "\n",
        "\n",
        "\n",
        "Task 10: Write a lambda function that takes two numbers as inputs and returns their division as a floating-point number. Use this function in a program that takes two inputs from the user and prints the division.\n",
        "\n"
      ],
      "metadata": {
        "id": "eQguxo5kicrB"
      }
    },
    {
      "cell_type": "code",
      "source": [
        "div = lambda n1, n2:n1 / n2 # as a floating-point , else use // non floating-point\n",
        "div.__doc__ = \"\"\"\n",
        "To find the division between two numbers(n1, n2)\n",
        "\n",
        "parameters\n",
        "----------\n",
        "n1,n2 : int, float\n",
        "\n",
        "returns\n",
        "-------\n",
        "n1/n2 : int, float\n",
        "\n",
        "\"\"\"\n",
        "n1 = int(input(\"Enter the First number :\"))\n",
        "n2 = int(input(\"Enter the Second number :\"))\n",
        "print(div(n1, n2),sep = \"\\n\")"
      ],
      "metadata": {
        "id": "C98yy1S_iNl5",
        "colab": {
          "base_uri": "https://localhost:8080/"
        },
        "outputId": "00c18b58-1f45-4437-94b2-d885750da799"
      },
      "execution_count": null,
      "outputs": [
        {
          "output_type": "stream",
          "name": "stdout",
          "text": [
            "Enter the First number :10\n",
            "Enter the Second number :3\n",
            "3.3333333333333335\n"
          ]
        }
      ]
    },
    {
      "cell_type": "markdown",
      "source": [],
      "metadata": {
        "id": "M08OZDtyg9K5"
      }
    },
    {
      "cell_type": "markdown",
      "source": [
        "# Fifth Session - OOP"
      ],
      "metadata": {
        "id": "kessvF05g_FI"
      }
    },
    {
      "cell_type": "markdown",
      "source": [
        "Task 1: Create a parent class Shape with a method area that returns 0. Then, create two child classes, Rectangle and Circle. Rectangle has attributes width and height, Circle has an attribute radius. Override the area method in both child classes to calculate the area correctly (use 3.14 as an approximation for pi)."
      ],
      "metadata": {
        "id": "fmuYHJvjhPrz"
      }
    },
    {
      "cell_type": "code",
      "source": [
        "import math\n",
        "\n",
        "class Shape:\n",
        "    \"\"\"\n",
        "    this class to calculate the area of any mathmatical shape\n",
        "\n",
        "\n",
        "    methods:\n",
        "    --------\n",
        "    area()\n",
        "      as a basic method to calculate any shape\n",
        "\n",
        "    \"\"\"\n",
        "    def area(self):\n",
        "      \"\"\"\n",
        "        as a basic method to calculate any shape\n",
        "\n",
        "\n",
        "        returns:\n",
        "        --------\n",
        "        0 : int\n",
        "\n",
        "\n",
        "      \"\"\"\n",
        "      return 0\n",
        "    def print_info():\n",
        "      pass\n",
        "class Rectangle(Shape):\n",
        "    \"\"\"\n",
        "    this class for calculate the area for Rectangle\n",
        "\n",
        "\n",
        "    parameters:\n",
        "    -----------\n",
        "    w : int or float\n",
        "        the width of rectangle\n",
        "    h : int or float\n",
        "        the height of rectangle\n",
        "\n",
        "\n",
        "    attributes:\n",
        "    -----------\n",
        "    width : int or float\n",
        "        the width of rectangle\n",
        "    height : int or float\n",
        "        the height of rectangle\n",
        "\n",
        "\n",
        "    methods:\n",
        "    --------\n",
        "    area()\n",
        "      to calculate the area of the rectangle\n",
        "\n",
        "    \"\"\"\n",
        "\n",
        "\n",
        "    def __init__(self, w, h):\n",
        "        self.width = w\n",
        "        self.height = h\n",
        "\n",
        "\n",
        "    def area(self):\n",
        "      \"\"\"\n",
        "       to calculate the area of the rectangle\n",
        "\n",
        "\n",
        "       returns:\n",
        "       --------\n",
        "       the area of rectangle : int or float\n",
        "\n",
        "\n",
        "      \"\"\"\n",
        "      return f\" the space of rectangle is :{self.width*self.height}\"\n",
        "\n",
        "\n",
        "class Circle(Shape):\n",
        "    \"\"\"\n",
        "    this class for calculate the area for Circle\n",
        "\n",
        "\n",
        "    parameters:\n",
        "    -----------\n",
        "    r : int or float\n",
        "        the radius of circle\n",
        "\n",
        "\n",
        "    attributes:\n",
        "    -----------\n",
        "    radius : int or float\n",
        "        the radius of circle\n",
        "\n",
        "\n",
        "\n",
        "    methods:\n",
        "    --------\n",
        "    area()\n",
        "      to calculate the area of the circle\n",
        "\n",
        "\n",
        "    \"\"\"\n",
        "    def __init__(self, r):\n",
        "        self.radius = r\n",
        "\n",
        "\n",
        "    def area(self):\n",
        "      \"\"\"\n",
        "       to calculate the area of the circle\n",
        "\n",
        "\n",
        "       returns:\n",
        "       --------\n",
        "       the area of circle : int or float\n",
        "\n",
        "\n",
        "      \"\"\"\n",
        "      return f\" the space of rectangle is :{self.radius**2 * math.pi}\"\n"
      ],
      "metadata": {
        "id": "jZlqNP4ihEyD"
      },
      "execution_count": null,
      "outputs": []
    },
    {
      "cell_type": "code",
      "source": [
        "circle_1 = Circle(r=5.6)\n",
        "print(circle_1.area())"
      ],
      "metadata": {
        "colab": {
          "base_uri": "https://localhost:8080/"
        },
        "id": "jZcMa56EjtL4",
        "outputId": "fe197808-20b6-4def-de4b-3d045625c95b"
      },
      "execution_count": null,
      "outputs": [
        {
          "output_type": "stream",
          "name": "stdout",
          "text": [
            " the space of rectangle is :98.5203456165759\n"
          ]
        }
      ]
    },
    {
      "cell_type": "code",
      "source": [
        "rectangle_1 = Rectangle(w=3, h=4)\n",
        "print(rectangle_1.area())"
      ],
      "metadata": {
        "colab": {
          "base_uri": "https://localhost:8080/"
        },
        "id": "qcdf79nfkE4J",
        "outputId": "232201c1-feac-4745-fb4e-26c407c8293e"
      },
      "execution_count": null,
      "outputs": [
        {
          "output_type": "stream",
          "name": "stdout",
          "text": [
            " the space of rectangle is :12\n"
          ]
        }
      ]
    },
    {
      "cell_type": "markdown",
      "source": [
        "Task 2: Expand on the previous task. Add a method print_info to the Shape class that prints out the type of shape and its area. For each child class, override this method to print the shape type (rectangle or circle), its specific attributes (width and height for rectangles, radius for circles), and its area."
      ],
      "metadata": {
        "id": "xjzIi73srRpU"
      }
    },
    {
      "cell_type": "code",
      "source": [
        "import math\n",
        "class Shape:\n",
        "    \"\"\"\n",
        "    this class to calculate the area of any mathmatical shape\n",
        "\n",
        "\n",
        "    methods:\n",
        "    --------\n",
        "    area()\n",
        "      as a basic method to calculate any shape\n",
        "    prints_info()\n",
        "      to print the area of shape if found it\n",
        "\n",
        "    \"\"\"\n",
        "\n",
        "    def area(self):\n",
        "      \"\"\"\n",
        "        as a basic method to calculate any shape\n",
        "\n",
        "\n",
        "        returns:\n",
        "        --------\n",
        "        0 : int\n",
        "\n",
        "\n",
        "      \"\"\"\n",
        "      return 0\n",
        "\n",
        "\n",
        "    def prints_info(self): # virtual method\n",
        "      \"\"\"\n",
        "       to print the area of shape if found it\n",
        "\n",
        "\n",
        "       returns:\n",
        "       --------\n",
        "       f\"the shape not found , so the area is{self.area}\" : str\n",
        "\n",
        "\n",
        "      \"\"\"\n",
        "      return f\"the shape not found , so the area is {self.area()}\"\n",
        "\n",
        "\n",
        "\n",
        "class Rectangle(Shape):\n",
        "    \"\"\"\n",
        "    this class for calculate the area for Rectangle\n",
        "\n",
        "\n",
        "    parameters:\n",
        "    -----------\n",
        "    w : int or float\n",
        "        the width of rectangle\n",
        "    h : int or float\n",
        "        the height of rectangle\n",
        "\n",
        "\n",
        "    attributes:\n",
        "    -----------\n",
        "    width : int or float\n",
        "        the width of rectangle\n",
        "    height : int or float\n",
        "        the height of rectangle\n",
        "\n",
        "\n",
        "    methods:\n",
        "    --------\n",
        "    area()\n",
        "      to calculate the area of the rectangle\n",
        "    prints_info()\n",
        "      to print the area of the rectangle\n",
        "\n",
        "    \"\"\"\n",
        "\n",
        "\n",
        "    def __init__(self, w, h):\n",
        "        self.width = w\n",
        "        self.height = h\n",
        "\n",
        "    def area(self):\n",
        "      \"\"\"\n",
        "       to calculate the area of the rectangle\n",
        "\n",
        "      \"\"\"\n",
        "\n",
        "\n",
        "      return self.width * self.height\n",
        "\n",
        "\n",
        "    def prints_info(self):\n",
        "      \"\"\"\n",
        "       to print the area of shape the rectangle\n",
        "      \"\"\"\n",
        "\n",
        "      print(f\"The Sahpe is Rectangle, the width is {self.width} and the height is {self.height}, Finally the area is {self.area()}\")\n",
        "\n",
        "class Circle(Shape):\n",
        "\n",
        "    \"\"\"\n",
        "    this class for calculate the area for Circle\n",
        "\n",
        "\n",
        "    parameters:\n",
        "    -----------\n",
        "    r : int or float\n",
        "        the radius of circle\n",
        "\n",
        "\n",
        "    attributes:\n",
        "    -----------\n",
        "    radius : int or float\n",
        "        the radius of circle\n",
        "\n",
        "\n",
        "    methods:\n",
        "    --------\n",
        "    area()\n",
        "      to calculate the area of the circle\n",
        "    prints_info()\n",
        "      to print the area of the circle\n",
        "\n",
        "    \"\"\"\n",
        "    def __init__(self, r):\n",
        "        self.radius = r\n",
        "\n",
        "\n",
        "    def area(self):\n",
        "       \"\"\"\n",
        "       to calculate the area of the circle\n",
        "\n",
        "      \"\"\"\n",
        "\n",
        "       return self.radius**2 * math.pi\n",
        "\n",
        "\n",
        "    def prints_info(self):\n",
        "      \"\"\"\n",
        "       to print the area of shape the circle\n",
        "      \"\"\"\n",
        "      print(f\"The Sahpe is Circle, the radius is {self.radius}, Finally the area is {self.area()}\")\n"
      ],
      "metadata": {
        "id": "zqlTeqysvhGJ"
      },
      "execution_count": null,
      "outputs": []
    },
    {
      "cell_type": "code",
      "source": [
        "rectangle_1 = Rectangle(w=3, h=4)\n",
        "rectangle_1.area()\n",
        "rectangle_1.prints_info()"
      ],
      "metadata": {
        "colab": {
          "base_uri": "https://localhost:8080/"
        },
        "id": "ZHkqkSEjxLov",
        "outputId": "d7159273-9bae-4bdb-d4fb-b6288f565e5c"
      },
      "execution_count": null,
      "outputs": [
        {
          "output_type": "stream",
          "name": "stdout",
          "text": [
            "The Sahpe is Rectangle, the width is 3 and the height is 4, Finally the area is 12\n"
          ]
        }
      ]
    },
    {
      "cell_type": "code",
      "source": [
        "circle_1 = Circle(r=5.6)\n",
        "circle_1.area()\n",
        "circle_1.prints_info()"
      ],
      "metadata": {
        "colab": {
          "base_uri": "https://localhost:8080/"
        },
        "id": "9NFctaRL0LDj",
        "outputId": "6e563598-c445-4b57-e8b1-50ffb5c8b64d"
      },
      "execution_count": null,
      "outputs": [
        {
          "output_type": "stream",
          "name": "stdout",
          "text": [
            "The Sahpe is Circle, the radius is 5.6, Finally the area is 98.5203456165759\n"
          ]
        }
      ]
    },
    {
      "cell_type": "code",
      "source": [
        "Sh = Shape()\n",
        "Sh.prints_info()"
      ],
      "metadata": {
        "colab": {
          "base_uri": "https://localhost:8080/",
          "height": 35
        },
        "id": "oDhFFV2Y9hp4",
        "outputId": "c92a3e4c-afa9-4d6e-e00d-fe79dc52237a"
      },
      "execution_count": null,
      "outputs": [
        {
          "output_type": "execute_result",
          "data": {
            "text/plain": [
              "'the shape not found , so the area is0'"
            ],
            "application/vnd.google.colaboratory.intrinsic+json": {
              "type": "string"
            }
          },
          "metadata": {},
          "execution_count": 7
        }
      ]
    },
    {
      "cell_type": "markdown",
      "source": [
        "Task 3: Create a class BankAccount with private attributes __account_number and __balance. Provide getter methods for both (get_account_number, get_balance), and methods to deposit and withdraw money. Ensure that the withdraw method checks if there is enough balance before withdrawing."
      ],
      "metadata": {
        "id": "icI0DRxY9y2D"
      }
    },
    {
      "cell_type": "code",
      "source": [
        "class BankAccount:\n",
        "  \"\"\"\n",
        "  this a class for anu account bank\n",
        "\n",
        "\n",
        "  contain the basic operation and Information for any customer's bank account\n",
        "\n",
        "\n",
        "  parameters:\n",
        "  -----------\n",
        "  account_number : int\n",
        "  balance : int\n",
        "\n",
        "\n",
        "  attributes:\n",
        "  -----------\n",
        "  __account_number : int\n",
        "  __balance : int\n",
        "\n",
        "\n",
        "  methods:\n",
        "  --------\n",
        "  get_account_number()\n",
        "    to get the account number\n",
        "  get_balance()\n",
        "    to get the balance\n",
        "  deposit()\n",
        "    to deposit money\n",
        "  withdraw()\n",
        "    to depwithdrawosit money\n",
        "\n",
        "  \"\"\"\n",
        "  def __init__(self, account_number, balance):\n",
        "       self.__account_number = account_number\n",
        "       self.__balance = balance\n",
        "\n",
        "\n",
        "  def get_account_number(self):\n",
        "    \"\"\"\n",
        "    to get the account number\n",
        "\n",
        "\n",
        "    returns:\n",
        "    --------\n",
        "    self.__account_number : int\n",
        "\n",
        "    \"\"\"\n",
        "\n",
        "    return self.__account_number\n",
        "\n",
        "\n",
        "  def get_balance(self):\n",
        "    \"\"\"\n",
        "    to get the balance\n",
        "\n",
        "\n",
        "    returns:\n",
        "    --------\n",
        "    self.__balance : int\n",
        "\n",
        "    \"\"\"\n",
        "    return self.__balance\n",
        "\n",
        "  def deposit(self, amount):\n",
        "    \"\"\"\n",
        "    to deposit amount\n",
        "\n",
        "\n",
        "    parameters:\n",
        "    -----------\n",
        "    amount : int\n",
        "\n",
        "    \"\"\"\n",
        "    self.__balance += amount\n",
        "\n",
        "  def withdraw(self, amount=0):\n",
        "    \"\"\"\n",
        "    to withdraw amount\n",
        "\n",
        "\n",
        "    parameters:\n",
        "    -----------\n",
        "    amount : int, 0\n",
        "\n",
        "    \"\"\"\n",
        "    if self.__balance >= amount:\n",
        "         self.__balance -= amount\n",
        "         print(\"withdraw done.\")\n",
        "    else :\n",
        "         print(\"withdraw fail, there is not money enough !!\")"
      ],
      "metadata": {
        "id": "Fi5wNHN29_DN"
      },
      "execution_count": null,
      "outputs": []
    },
    {
      "cell_type": "code",
      "source": [
        "user1 = BankAccount(123456789, 1000)\n"
      ],
      "metadata": {
        "id": "Pvnkp974_9Ta"
      },
      "execution_count": null,
      "outputs": []
    },
    {
      "cell_type": "code",
      "source": [
        "\"account number\"+str(user1.get_account_number())\n"
      ],
      "metadata": {
        "colab": {
          "base_uri": "https://localhost:8080/",
          "height": 35
        },
        "id": "YnlEBP3FCNuH",
        "outputId": "66e8e996-38ad-4eb0-99c2-abfa2fa6e41c"
      },
      "execution_count": null,
      "outputs": [
        {
          "output_type": "execute_result",
          "data": {
            "text/plain": [
              "'account number123456789'"
            ],
            "application/vnd.google.colaboratory.intrinsic+json": {
              "type": "string"
            }
          },
          "metadata": {},
          "execution_count": 18
        }
      ]
    },
    {
      "cell_type": "code",
      "source": [
        "\"your balance is \"+str(user1.get_balance())\n"
      ],
      "metadata": {
        "colab": {
          "base_uri": "https://localhost:8080/",
          "height": 35
        },
        "id": "H70WEoGjCRyq",
        "outputId": "9d72d0ae-d95f-4686-f2fa-98b19d0e92a0"
      },
      "execution_count": null,
      "outputs": [
        {
          "output_type": "execute_result",
          "data": {
            "text/plain": [
              "'your balance is 1000'"
            ],
            "application/vnd.google.colaboratory.intrinsic+json": {
              "type": "string"
            }
          },
          "metadata": {},
          "execution_count": 20
        }
      ]
    },
    {
      "cell_type": "code",
      "source": [
        "user1.deposit(200)\n",
        "\"The new balance is \"+str(user1.get_balance())\n"
      ],
      "metadata": {
        "id": "kY9uWsZ7C1ip",
        "colab": {
          "base_uri": "https://localhost:8080/",
          "height": 35
        },
        "outputId": "317bf989-6192-4cfb-ea66-442d5f3d212c"
      },
      "execution_count": null,
      "outputs": [
        {
          "output_type": "execute_result",
          "data": {
            "text/plain": [
              "'The new balance is 1400'"
            ],
            "application/vnd.google.colaboratory.intrinsic+json": {
              "type": "string"
            }
          },
          "metadata": {},
          "execution_count": 22
        }
      ]
    },
    {
      "cell_type": "code",
      "source": [
        "user1.withdraw(400)\n",
        "\"The new balance is \"+str(user1.get_balance())\n"
      ],
      "metadata": {
        "colab": {
          "base_uri": "https://localhost:8080/",
          "height": 52
        },
        "id": "pFed1_sYC7MA",
        "outputId": "d8899dcd-9ff3-488b-aa72-bff15a8d0c17"
      },
      "execution_count": null,
      "outputs": [
        {
          "output_type": "stream",
          "name": "stdout",
          "text": [
            "withdraw fail, there is not money enough !!\n"
          ]
        },
        {
          "output_type": "execute_result",
          "data": {
            "text/plain": [
              "'The new balance is 200'"
            ],
            "application/vnd.google.colaboratory.intrinsic+json": {
              "type": "string"
            }
          },
          "metadata": {},
          "execution_count": 26
        }
      ]
    },
    {
      "cell_type": "markdown",
      "source": [
        "Task 4: Create a base class Animal that has a method speak() which prints \"I don't know what I say!\". Then create two derived classes Dog and Cat which override the speak() method. The speak() method in the Dog class should print \"Woof Woof!\" and the speak() method in the Cat class should print \"Meow Meow!\"."
      ],
      "metadata": {
        "id": "tpMG5OHADjDQ"
      }
    },
    {
      "cell_type": "code",
      "source": [
        "class Animal:\n",
        "  \"\"\"\n",
        "  this class for sound Animal\n",
        "\n",
        "  methods:\n",
        "  --------\n",
        "  speak()\n",
        "    to print the sound of animal\n",
        "\n",
        "  \"\"\"\n",
        "\n",
        "  def speak(self):\n",
        "    \"\"\"\n",
        "    to print the sound of animal\n",
        "\n",
        "    \"\"\"\n",
        "\n",
        "    print(\"I don't know what I say!\")\n",
        "\n",
        "\n",
        "class Dog(Animal):\n",
        "  \"\"\"\n",
        "  this class for sound Dog\n",
        "\n",
        "  methods:\n",
        "  --------\n",
        "  speak()\n",
        "    to print the sound of Dog\n",
        "\n",
        "  \"\"\"\n",
        "\n",
        "\n",
        "  def speak(self):\n",
        "\n",
        "    \"\"\"\n",
        "    to print the sound of Dog\n",
        "\n",
        "    \"\"\"\n",
        "\n",
        "    print(\"Woof Woof!\")\n",
        "\n",
        "\n",
        "class Cat(Animal):\n",
        "  \"\"\"\n",
        "  this class for sound Cat\n",
        "\n",
        "  methods:\n",
        "  --------\n",
        "  speak()\n",
        "    to print the sound of Cat\n",
        "\n",
        "  \"\"\"\n",
        "  def speak(self):\n",
        "    \"\"\"\n",
        "    to print the sound of Cat\n",
        "\n",
        "    \"\"\"\n",
        "    print(\"Meow Meow!\")\n",
        "\n"
      ],
      "metadata": {
        "id": "Df20k1o-DjqI"
      },
      "execution_count": null,
      "outputs": []
    },
    {
      "cell_type": "code",
      "source": [
        "cat_1 = Cat()\n",
        "cat_1.speak()"
      ],
      "metadata": {
        "colab": {
          "base_uri": "https://localhost:8080/"
        },
        "id": "57MIHF4_EymW",
        "outputId": "85bf41b5-1b96-4ad3-8e98-64d02c20b015"
      },
      "execution_count": null,
      "outputs": [
        {
          "output_type": "stream",
          "name": "stdout",
          "text": [
            "Meow Meow!\n"
          ]
        }
      ]
    },
    {
      "cell_type": "code",
      "source": [
        "type(cat_1)"
      ],
      "metadata": {
        "colab": {
          "base_uri": "https://localhost:8080/"
        },
        "id": "GF2b9n04GNlt",
        "outputId": "b8f4bea3-f1ad-4de5-e8b0-8518c009fa61"
      },
      "execution_count": null,
      "outputs": [
        {
          "output_type": "execute_result",
          "data": {
            "text/plain": [
              "__main__.Cat"
            ]
          },
          "metadata": {},
          "execution_count": 101
        }
      ]
    },
    {
      "cell_type": "code",
      "source": [
        "yellow_camel = Animal()\n",
        "yellow_camel.speak()"
      ],
      "metadata": {
        "colab": {
          "base_uri": "https://localhost:8080/"
        },
        "id": "Yip67zbwFFpB",
        "outputId": "b2e49266-bf94-46a1-d98a-69cf1dc9a38f"
      },
      "execution_count": null,
      "outputs": [
        {
          "output_type": "stream",
          "name": "stdout",
          "text": [
            "I don't know what I say!\n"
          ]
        }
      ]
    },
    {
      "cell_type": "markdown",
      "source": [
        "Task 5: Continuing from the above task, create a function animal_speak(animal) which accepts an Animal object and calls its speak() method. This demonstrates polymorphism because you can pass any object of a class derived from Animal to this function and it will work."
      ],
      "metadata": {
        "id": "D6BzPlKCGCDm"
      }
    },
    {
      "cell_type": "code",
      "source": [
        "\n",
        "def animal_speak(animal):\n",
        "  \"\"\"\n",
        "  this fun to calling the sound of animal\n",
        "\n",
        "  prompters:\n",
        "  animal : object\n",
        "\n",
        "  \"\"\"\n",
        "  animal.speak()\n",
        "\n",
        "animal = input(\"please enter you animal :\")\n",
        "if animal == \"cat\":\n",
        "  animal = Cat()\n",
        "elif animal == \"dog\":\n",
        "  animal = Dog()\n",
        "else:\n",
        "  animal = Animal()\n",
        "\n",
        "animal_speak(animal)"
      ],
      "metadata": {
        "colab": {
          "base_uri": "https://localhost:8080/"
        },
        "id": "E74Ath5xGC2e",
        "outputId": "dba29e66-439e-48ed-b62a-04d06b5c7382"
      },
      "execution_count": null,
      "outputs": [
        {
          "output_type": "stream",
          "name": "stdout",
          "text": [
            "please enter you animal :hhh\n",
            "I don't know what I say!\n"
          ]
        }
      ]
    },
    {
      "cell_type": "markdown",
      "source": [
        "Task 6: Create a class Car with two attributes: color (public) and __speed (private). The class should have methods accelerate() which increases the speed by 10 and get_speed() which returns the current speed. The __speed attribute should be modified only through the accelerate() method, demonstrating the principle of encapsulation."
      ],
      "metadata": {
        "id": "_q-l3pjEMAw6"
      }
    },
    {
      "cell_type": "code",
      "source": [
        "class Car():\n",
        "  \"\"\"\n",
        "  this class for car\n",
        "\n",
        "\n",
        "  parameters:\n",
        "  -----------\n",
        "  c : str\n",
        "    this color of car\n",
        "  sp : int, float\n",
        "    this speed of car\n",
        "\n",
        "\n",
        "  attributes:\n",
        "  -----------\n",
        "  color : str\n",
        "    this color of car\n",
        "  __speed : int, float\n",
        "    this speed of car\n",
        "\n",
        "\n",
        "  methods:\n",
        "  --------\n",
        "  accelerate()\n",
        "    to increase the speed of car\n",
        "  get_speed()\n",
        "    to get the speed of car\n",
        "\n",
        "  \"\"\"\n",
        "\n",
        "  def __init__(self, c, sp):\n",
        "    self.color = c\n",
        "    self.__speed = sp\n",
        "\n",
        "\n",
        "  def accelerate(self):\n",
        "    \"\"\"\n",
        "    to increase the speed of car\n",
        "\n",
        "    \"\"\"\n",
        "    self.__speed += 10\n",
        "\n",
        "\n",
        "  def get_speed(self):\n",
        "    \"\"\"\n",
        "    to get the speed of car\n",
        "\n",
        "    \"\"\"\n",
        "    return f\"the current speed is {self.__speed}\""
      ],
      "metadata": {
        "id": "qZNewa6WMkym"
      },
      "execution_count": null,
      "outputs": []
    },
    {
      "cell_type": "code",
      "source": [
        "teslla =Car(\"white\", 10)\n"
      ],
      "metadata": {
        "id": "4-rBVrtMNUtH"
      },
      "execution_count": null,
      "outputs": []
    },
    {
      "cell_type": "code",
      "source": [
        "teslla.get_speed()"
      ],
      "metadata": {
        "colab": {
          "base_uri": "https://localhost:8080/",
          "height": 35
        },
        "id": "GwKbLsywNakh",
        "outputId": "fbeaf4a3-20db-4870-add4-2b2b7580e29d"
      },
      "execution_count": null,
      "outputs": [
        {
          "output_type": "execute_result",
          "data": {
            "text/plain": [
              "'the current speed is 40'"
            ],
            "application/vnd.google.colaboratory.intrinsic+json": {
              "type": "string"
            }
          },
          "metadata": {},
          "execution_count": 40
        }
      ]
    },
    {
      "cell_type": "code",
      "source": [
        "teslla.accelerate()"
      ],
      "metadata": {
        "id": "IzM453gzNiE4"
      },
      "execution_count": null,
      "outputs": []
    }
  ]
}