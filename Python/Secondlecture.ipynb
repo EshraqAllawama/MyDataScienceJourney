{
  "nbformat": 4,
  "nbformat_minor": 0,
  "metadata": {
    "colab": {
      "provenance": [],
      "authorship_tag": "ABX9TyMZExT/i+XBPv0XkO2HRRPM",
      "include_colab_link": true
    },
    "kernelspec": {
      "name": "python3",
      "display_name": "Python 3"
    },
    "language_info": {
      "name": "python"
    }
  },
  "cells": [
    {
      "cell_type": "markdown",
      "metadata": {
        "id": "view-in-github",
        "colab_type": "text"
      },
      "source": [
        "<a href=\"https://colab.research.google.com/github/EshraqAllawama/MyDataScienceJourney/blob/python/Secondlecture.ipynb\" target=\"_parent\"><img src=\"https://colab.research.google.com/assets/colab-badge.svg\" alt=\"Open In Colab\"/></a>"
      ]
    },
    {
      "cell_type": "code",
      "source": [
        "\"\"\"\n",
        "Binary -> Machine languge\n",
        "assembly-> Low level -> micro controler -> or pc -> less the execuation time\n",
        "python/ R -> high level - redable\n",
        "decumant -> explan of the something ,,,, as decumant for library\n",
        "Google colab : Markdown + code cells\n",
        "sql -> not case sensative\n",
        "\n",
        "PEP 8 :\n",
        "#:\n",
        "# for explain why not what\n",
        "space # space explain\n",
        " code\n",
        "\n",
        "Multcomment : using\n",
        "#\n",
        "#\n",
        "#\n",
        "just\n",
        "\n",
        "\"\"\" \"\"\": docstring\n",
        "Multi line ... for decumantation(explain for fun and verabile) in fun or class or Module\n",
        "not comment\n",
        "\n",
        "help : to show docstring as(Manul) in code\n",
        "\n",
        "// floor devsion\n",
        "\n",
        "Operation : العملية بحد ذاتها\n",
        "operator : + and or\n",
        "operaned : اللي حول ال operator .... الاطراف\n",
        "\n",
        "\\\\\n",
        "print(\"My name is eshraq\\\\I live in Maan\")\n",
        "print(\"My name is eshraq\\tI live in Maan\")\n",
        "print(r\"My name is eshraq\\tI live in Maan\") # no operating \\t ... \\t as string\n",
        "print(\"My name is eshraq\\\\I live in Maan\") # for Path\n",
        "print(r\"My name is eshraq\\I live in Maan\") # the same\n",
        "print(r\"My name is eshraq\\nI live in Maan\")\n",
        "\n",
        "Method vs fun\n",
        "print() -> fun\n",
        "obj.Method() -> \"eshraq\".upper() -> Method\n",
        "\n",
        "python standard library -> as math , random .....\n",
        "came to python version with Installed it\n",
        "\n",
        "\"\"\"\n",
        "\n"
      ],
      "metadata": {
        "id": "YbmYECAbRXsf"
      },
      "execution_count": null,
      "outputs": []
    },
    {
      "cell_type": "code",
      "execution_count": null,
      "metadata": {
        "id": "ZDqrVlK6wJL5"
      },
      "outputs": [],
      "source": [
        "# varible -> declare+ inzllation ... but in python togather there\n",
        "# assigment is = ... value to varible"
      ]
    },
    {
      "cell_type": "markdown",
      "source": [
        "* Multiple variables can be created at once. This is most commonly used when unpacking or when a function returnes multiple values."
      ],
      "metadata": {
        "id": "Bprs5g1xyLCN"
      }
    },
    {
      "cell_type": "code",
      "source": [
        "# unpacking -> break it into parts is not a datastructer\n",
        "x,y,z = [1,2,3]"
      ],
      "metadata": {
        "id": "q0cwmGJuyAs9"
      },
      "execution_count": null,
      "outputs": []
    },
    {
      "cell_type": "code",
      "source": [
        "print(x,y,z)"
      ],
      "metadata": {
        "colab": {
          "base_uri": "https://localhost:8080/"
        },
        "id": "mtLcGCRLyhqk",
        "outputId": "26969ef7-a852-4a72-b274-fa73d398fe97"
      },
      "execution_count": null,
      "outputs": [
        {
          "output_type": "stream",
          "name": "stdout",
          "text": [
            "1 2 3\n"
          ]
        }
      ]
    },
    {
      "cell_type": "markdown",
      "source": [
        "* Variables can be updated or deleted after their creation. We delete a variable if it is large in size (requires memory to store) and we no longer need it."
      ],
      "metadata": {
        "id": "4uyzush00kWY"
      }
    },
    {
      "cell_type": "code",
      "source": [
        "#\n",
        "# del is commend ... and it for dataset larger not small verible for Memory size ... and no need it(large verible in size)."
      ],
      "metadata": {
        "id": "jbjqe_I0zynf"
      },
      "execution_count": null,
      "outputs": []
    },
    {
      "cell_type": "code",
      "source": [
        "#\n",
        "#Naming cases as style :\n",
        "# ways to write varible Name\n",
        "#Camel case : name or fullName or myLastName\n",
        "#Pascal case : MyLastName or FullName\n",
        "#Snake case : all litter is small and with_ -> my_last_name or full_name ... using of varible Name\n",
        "#Upper case : MY_FULL_NAME or  NAME"
      ],
      "metadata": {
        "id": "iuP6P7SSVfhN"
      },
      "execution_count": null,
      "outputs": []
    },
    {
      "cell_type": "code",
      "source": [
        "#print(\"اشراق\")\n",
        "last_name = \"allawama\"\n",
        "test = f\"eshraq {last_name}\"\n",
        "#test = \"eshraq \",last_name\n",
        "print(test)"
      ],
      "metadata": {
        "colab": {
          "base_uri": "https://localhost:8080/"
        },
        "id": "Bw2YEhydaPtc",
        "outputId": "b1a4b837-3c82-4ccc-aef7-f150bcb73229"
      },
      "execution_count": null,
      "outputs": [
        {
          "output_type": "stream",
          "name": "stdout",
          "text": [
            "('eshraq ', 'allawama')\n"
          ]
        }
      ]
    },
    {
      "cell_type": "code",
      "source": [
        "print(\"eshraq{}\".format(\"allawama\"))"
      ],
      "metadata": {
        "colab": {
          "base_uri": "https://localhost:8080/"
        },
        "id": "zQiPFufskgql",
        "outputId": "db40fdd7-dbc6-4d7a-dc2e-dd68904f0fa1"
      },
      "execution_count": null,
      "outputs": [
        {
          "output_type": "stream",
          "name": "stdout",
          "text": [
            "eshraqallawama\n"
          ]
        }
      ]
    },
    {
      "cell_type": "code",
      "source": [],
      "metadata": {
        "colab": {
          "base_uri": "https://localhost:8080/",
          "height": 106
        },
        "id": "j6_zH5NIv1yu",
        "outputId": "3fca59ec-0cef-4b7b-c0a8-eda83a83bc1a"
      },
      "execution_count": null,
      "outputs": [
        {
          "output_type": "error",
          "ename": "SyntaxError",
          "evalue": "invalid decimal literal (<ipython-input-2-0bcd8ece89de>, line 1)",
          "traceback": [
            "\u001b[0;36m  File \u001b[0;32m\"<ipython-input-2-0bcd8ece89de>\"\u001b[0;36m, line \u001b[0;32m1\u001b[0m\n\u001b[0;31m    6o = 7\u001b[0m\n\u001b[0m    ^\u001b[0m\n\u001b[0;31mSyntaxError\u001b[0m\u001b[0;31m:\u001b[0m invalid decimal literal\n"
          ]
        }
      ]
    },
    {
      "cell_type": "code",
      "source": [
        "#print(j) Name Error\n",
        "#print(int(\"f\"))\n",
        "print(type(float(ord(\"r\"))),type(ord(\"r\")),float(ord(\"r\")))"
      ],
      "metadata": {
        "colab": {
          "base_uri": "https://localhost:8080/"
        },
        "id": "TU_zTLiIv2vw",
        "outputId": "0a63f32c-72d5-4c2b-ad2f-e9c156640e4b"
      },
      "execution_count": null,
      "outputs": [
        {
          "output_type": "stream",
          "name": "stdout",
          "text": [
            "<class 'float'> <class 'int'> 114.0\n"
          ]
        }
      ]
    },
    {
      "cell_type": "code",
      "source": [
        "\"\"\"\n",
        "hello\n"
      ],
      "metadata": {
        "colab": {
          "base_uri": "https://localhost:8080/",
          "height": 106
        },
        "id": "JfJYa-ABwald",
        "outputId": "e3418143-fddc-407a-f8fa-24405d23cd1c"
      },
      "execution_count": null,
      "outputs": [
        {
          "output_type": "error",
          "ename": "SyntaxError",
          "evalue": "incomplete input (<ipython-input-3-fee3ef0cb303>, line 1)",
          "traceback": [
            "\u001b[0;36m  File \u001b[0;32m\"<ipython-input-3-fee3ef0cb303>\"\u001b[0;36m, line \u001b[0;32m1\u001b[0m\n\u001b[0;31m    \"\"\"\u001b[0m\n\u001b[0m    ^\u001b[0m\n\u001b[0;31mSyntaxError\u001b[0m\u001b[0;31m:\u001b[0m incomplete input\n"
          ]
        }
      ]
    },
    {
      "cell_type": "code",
      "source": [
        "ererewrew\n",
        "\"\"\""
      ],
      "metadata": {
        "colab": {
          "base_uri": "https://localhost:8080/",
          "height": 106
        },
        "id": "usRCEOGufYk0",
        "outputId": "83f43af4-381f-48b9-ea61-e6b237de4215"
      },
      "execution_count": null,
      "outputs": [
        {
          "output_type": "error",
          "ename": "SyntaxError",
          "evalue": "incomplete input (<ipython-input-4-956eb394ce7f>, line 2)",
          "traceback": [
            "\u001b[0;36m  File \u001b[0;32m\"<ipython-input-4-956eb394ce7f>\"\u001b[0;36m, line \u001b[0;32m2\u001b[0m\n\u001b[0;31m    \"\"\"\u001b[0m\n\u001b[0m    ^\u001b[0m\n\u001b[0;31mSyntaxError\u001b[0m\u001b[0;31m:\u001b[0m incomplete input\n"
          ]
        }
      ]
    },
    {
      "cell_type": "code",
      "source": [
        "def test(u = \"Osama\"):\n",
        "  \"\"\" this fun for testing the Name \"\"\"\n",
        "  # test\n",
        "  return u+\"User\""
      ],
      "metadata": {
        "id": "_b8hcDEsgnvl"
      },
      "execution_count": null,
      "outputs": []
    },
    {
      "cell_type": "code",
      "source": [
        "print(test(\"eshraq\"))\n",
        "print(test())"
      ],
      "metadata": {
        "colab": {
          "base_uri": "https://localhost:8080/"
        },
        "id": "WyoHK1tqgtff",
        "outputId": "3e62606e-2ab9-434e-d5fa-830640c4db5e"
      },
      "execution_count": null,
      "outputs": [
        {
          "output_type": "stream",
          "name": "stdout",
          "text": [
            "eshraqUser\n",
            "OsamaUser\n"
          ]
        }
      ]
    },
    {
      "cell_type": "code",
      "source": [
        "print(help(test))"
      ],
      "metadata": {
        "colab": {
          "base_uri": "https://localhost:8080/"
        },
        "id": "8rPgd6k5gzEg",
        "outputId": "c88375c3-1bf9-46d6-eb72-7daede463548"
      },
      "execution_count": null,
      "outputs": [
        {
          "output_type": "stream",
          "name": "stdout",
          "text": [
            "Help on function test in module __main__:\n",
            "\n",
            "test(u='Osama')\n",
            "    this fun for testing the Name\n",
            "\n",
            "None\n"
          ]
        }
      ]
    },
    {
      "cell_type": "code",
      "source": [
        "11%4"
      ],
      "metadata": {
        "colab": {
          "base_uri": "https://localhost:8080/"
        },
        "id": "QKAmecHktmM1",
        "outputId": "109895f9-5b68-4865-8496-57bc0655b679"
      },
      "execution_count": null,
      "outputs": [
        {
          "output_type": "execute_result",
          "data": {
            "text/plain": [
              "3"
            ]
          },
          "metadata": {},
          "execution_count": 26
        }
      ]
    },
    {
      "cell_type": "code",
      "source": [
        "7.0/7\n",
        "# if (logic expression)"
      ],
      "metadata": {
        "colab": {
          "base_uri": "https://localhost:8080/"
        },
        "id": "ZBVFzkpHu6pS",
        "outputId": "51bc8cb2-87fb-4ce2-93fb-4a13a466c195"
      },
      "execution_count": null,
      "outputs": [
        {
          "output_type": "execute_result",
          "data": {
            "text/plain": [
              "True"
            ]
          },
          "metadata": {},
          "execution_count": 32
        }
      ]
    },
    {
      "cell_type": "code",
      "source": [
        "print(\"My name is eshraq\\\\I live in Maan\")\n",
        "print(\"My name is eshraq\\tI live in Maan\")\n",
        "print(r\"My name is eshraq\\tI live in Maan\") # no operating \\t ... \\t as string\n",
        "print(\"My name is eshraq\\\\I live in Maan\") # for Path\n",
        "print(r\"My name is eshraq\\I live in Maan\") # the same\n",
        "print(r\"My name is eshraq\\nI live in Maan\")\n"
      ],
      "metadata": {
        "colab": {
          "base_uri": "https://localhost:8080/"
        },
        "id": "tXFZPHonKQjt",
        "outputId": "8cc26e65-4bbd-4bc5-b112-a59fb86cdebf"
      },
      "execution_count": null,
      "outputs": [
        {
          "output_type": "stream",
          "name": "stdout",
          "text": [
            "My name is eshraq\\I live in Maan\n",
            "My name is eshraq\tI live in Maan\n",
            "My name is eshraq\\tI live in Maan\n",
            "My name is eshraq\\I live in Maan\n",
            "My name is eshraq\\I live in Maan\n",
            "My name is eshraq\\nI live in Maan\n"
          ]
        }
      ]
    },
    {
      "cell_type": "code",
      "source": [
        "p = \"eshraq\"\n",
        "print(p.upper()) # no edit in p\n",
        "print(p)"
      ],
      "metadata": {
        "colab": {
          "base_uri": "https://localhost:8080/"
        },
        "id": "EOlYFdi5ON09",
        "outputId": "480c6e3f-3b31-40a9-8301-931191030f24"
      },
      "execution_count": null,
      "outputs": [
        {
          "output_type": "stream",
          "name": "stdout",
          "text": [
            "ESHRAQ\n",
            "eshraq\n"
          ]
        }
      ]
    },
    {
      "cell_type": "code",
      "source": [
        "print(p.replace(\"\",\"U\"))\n",
        "print(p.find(\"\"))\n",
        "print(p.find(\"z\"))  # -1"
      ],
      "metadata": {
        "colab": {
          "base_uri": "https://localhost:8080/"
        },
        "id": "U_GOX0yOOa6X",
        "outputId": "8f4d70a4-e19d-4d4c-c871-43b5b04acce7"
      },
      "execution_count": null,
      "outputs": [
        {
          "output_type": "stream",
          "name": "stdout",
          "text": [
            "UeUsUhUrUaUqU\n",
            "0\n",
            "-1\n"
          ]
        }
      ]
    },
    {
      "cell_type": "code",
      "source": [
        "Task"
      ],
      "metadata": {
        "id": "rdwo0S9EWG6o"
      },
      "execution_count": null,
      "outputs": []
    },
    {
      "cell_type": "code",
      "source": [],
      "metadata": {
        "id": "Da70TTlTRSqe"
      },
      "execution_count": null,
      "outputs": []
    }
  ]
}