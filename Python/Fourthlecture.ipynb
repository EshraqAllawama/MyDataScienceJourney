{
  "nbformat": 4,
  "nbformat_minor": 0,
  "metadata": {
    "colab": {
      "provenance": [],
      "mount_file_id": "1zELv5jez_PEdu-ZdLJhA6OulKBAp5kCU",
      "authorship_tag": "ABX9TyOTNqbqKb/SDm7dQNnYAbof",
      "include_colab_link": true
    },
    "kernelspec": {
      "name": "python3",
      "display_name": "Python 3"
    },
    "language_info": {
      "name": "python"
    }
  },
  "cells": [
    {
      "cell_type": "markdown",
      "metadata": {
        "id": "view-in-github",
        "colab_type": "text"
      },
      "source": [
        "<a href=\"https://colab.research.google.com/github/EshraqAllawama/MyDataScienceJourney/blob/python/Fourthlecture.ipynb\" target=\"_parent\"><img src=\"https://colab.research.google.com/assets/colab-badge.svg\" alt=\"Open In Colab\"/></a>"
      ]
    },
    {
      "cell_type": "code",
      "execution_count": null,
      "metadata": {
        "id": "3fmxPeja990M"
      },
      "outputs": [],
      "source": [
        "# we have two standard(style) of documentation for Method is (google and numpy)\n",
        "# https://numpydoc.readthedocs.io/en/latest/format.html\n"
      ]
    },
    {
      "cell_type": "markdown",
      "source": [
        "#Math"
      ],
      "metadata": {
        "id": "XTf5DgB-Cbrb"
      }
    },
    {
      "cell_type": "code",
      "source": [
        "import math\n",
        "print(math.factorial(5))\n",
        "pi = math.pi\n",
        "print(pi)\n",
        "print(int(math.cos(pi)))"
      ],
      "metadata": {
        "colab": {
          "base_uri": "https://localhost:8080/"
        },
        "id": "7TjCJceWCbcl",
        "outputId": "9e3304d2-6b9d-4625-ec90-559dbc68b41f"
      },
      "execution_count": null,
      "outputs": [
        {
          "output_type": "stream",
          "name": "stdout",
          "text": [
            "120\n",
            "3.141592653589793\n",
            "-1\n"
          ]
        }
      ]
    },
    {
      "cell_type": "markdown",
      "source": [
        "#os packages\n",
        "The OS package allows you to interact with the operating system. This includes, accessing directories, creating files, - and run bash scripts -"
      ],
      "metadata": {
        "id": "egxMrXIgG6Oj"
      }
    },
    {
      "cell_type": "markdown",
      "source": [
        "# file"
      ],
      "metadata": {
        "id": "Zk9fP-evM5l7"
      }
    },
    {
      "cell_type": "code",
      "source": [],
      "metadata": {
        "id": "n_ZcfkssNEvu"
      },
      "execution_count": null,
      "outputs": []
    },
    {
      "cell_type": "code",
      "source": [
        "f = open(\"test.txt\",\"x\") # create\n",
        "f.close()"
      ],
      "metadata": {
        "id": "AsAF5PvkM-fD"
      },
      "execution_count": null,
      "outputs": []
    },
    {
      "cell_type": "code",
      "source": [
        "os.remove(\"/content/text.txt\")"
      ],
      "metadata": {
        "id": "p6Q0Cw3VNk12"
      },
      "execution_count": null,
      "outputs": []
    },
    {
      "cell_type": "code",
      "source": [
        "os.listdir()"
      ],
      "metadata": {
        "colab": {
          "base_uri": "https://localhost:8080/"
        },
        "id": "7uxLM0mxNfuj",
        "outputId": "680b61f3-1ceb-481d-e17d-0e5ba2d1a53e"
      },
      "execution_count": null,
      "outputs": [
        {
          "output_type": "execute_result",
          "data": {
            "text/plain": [
              "['.config', 'test.txt', '.ipynb_checkpoints', 'drive', 'sample_data']"
            ]
          },
          "metadata": {},
          "execution_count": 33
        }
      ]
    },
    {
      "cell_type": "code",
      "source": [
        "# mode -> read (r) , write (w)\n",
        "# relative path as test.txt\n",
        "# absolutepath as /content/test.txt\n",
        "f = open(\"test.txt\",\"r\")\n",
        "content = f.read()\n",
        "f.close()"
      ],
      "metadata": {
        "id": "wP5QiCi1Nhwh"
      },
      "execution_count": null,
      "outputs": []
    },
    {
      "cell_type": "code",
      "source": [
        "content"
      ],
      "metadata": {
        "colab": {
          "base_uri": "https://localhost:8080/",
          "height": 35
        },
        "id": "jdct0mNGOtRj",
        "outputId": "30acb65e-8f1c-417f-d23d-816c86ca5989"
      },
      "execution_count": null,
      "outputs": [
        {
          "output_type": "execute_result",
          "data": {
            "text/plain": [
              "'Hi My name is eshraq\\nI am data scientist professional'"
            ],
            "application/vnd.google.colaboratory.intrinsic+json": {
              "type": "string"
            }
          },
          "metadata": {},
          "execution_count": 35
        }
      ]
    },
    {
      "cell_type": "code",
      "source": [
        "print(content)"
      ],
      "metadata": {
        "id": "EIpZofBSPXtf"
      },
      "execution_count": null,
      "outputs": []
    },
    {
      "cell_type": "code",
      "source": [
        "# readline , read eash line as one ,\n",
        "# and store stoped\n",
        "f = open(\"test.txt\",\"r\")\n",
        "content = f.readline()\n",
        "print(content)\n",
        "f.close()"
      ],
      "metadata": {
        "colab": {
          "base_uri": "https://localhost:8080/"
        },
        "id": "aOWGcFmKPKWJ",
        "outputId": "9d935332-9d7b-4dd7-c36b-d88d0af7e35c"
      },
      "execution_count": null,
      "outputs": [
        {
          "output_type": "stream",
          "name": "stdout",
          "text": [
            "Hi My name is eshraq\n",
            "\n"
          ]
        }
      ]
    },
    {
      "cell_type": "code",
      "source": [
        "f = open(\"test.txt\",\"r\")\n",
        "content = f.readline()\n",
        "print(content)\n",
        "content = f.readline()\n",
        "print(content)\n",
        "f.close()"
      ],
      "metadata": {
        "colab": {
          "base_uri": "https://localhost:8080/"
        },
        "id": "2N84xWUyPMTF",
        "outputId": "c30292e3-4d68-410a-87c7-076b86312ca1"
      },
      "execution_count": null,
      "outputs": [
        {
          "output_type": "stream",
          "name": "stdout",
          "text": [
            "Hi My name is eshraq\n",
            "\n",
            "I am data scientist professional\n",
            "\n"
          ]
        }
      ]
    },
    {
      "cell_type": "code",
      "source": [
        "\n",
        "for reading in range(2):\n",
        "  f = open(\"test.txt\",\"r\")\n",
        "\n",
        "  content = f.readline()\n",
        "  print(content)\n",
        "\n",
        "f.close()"
      ],
      "metadata": {
        "colab": {
          "base_uri": "https://localhost:8080/"
        },
        "id": "BZXLM1Y2Rfqc",
        "outputId": "6890cd30-3963-4bf8-eb48-704bcd01d5d1"
      },
      "execution_count": null,
      "outputs": [
        {
          "output_type": "stream",
          "name": "stdout",
          "text": [
            "Hi My name is eshraq\n",
            "\n",
            "Hi My name is eshraq\n",
            "\n"
          ]
        }
      ]
    },
    {
      "cell_type": "code",
      "source": [
        "# read each line and store it a list\n",
        "with open(\"test.txt\",\"r\") as f:\n",
        "  lines1 = f.read().splitlines()\n",
        "  # by defult -> keepends=False\n",
        "  f.seek(0) # back to first line\n",
        "  lines2 = f.readlines()\n",
        "  # splitlines()\n",
        "# atomatic close\n",
        "print(lines1,lines2,sep=\"\\n\")"
      ],
      "metadata": {
        "colab": {
          "base_uri": "https://localhost:8080/"
        },
        "id": "D7JTeNxGfAnT",
        "outputId": "aebc7d88-63df-45e5-f698-44dc04a17e13"
      },
      "execution_count": null,
      "outputs": [
        {
          "output_type": "stream",
          "name": "stdout",
          "text": [
            "['Hi My name is eshraq', 'I am data\\\\r scientist professional', 'I am from Shoubak']\n",
            "['Hi My name is eshraq\\n', 'I am data\\\\r scientist professional\\n', 'I am from Shoubak']\n"
          ]
        }
      ]
    },
    {
      "cell_type": "code",
      "source": [
        "# if the file not exist created it\n",
        "# this a property with uesd in most write modes\n",
        "# w -> overwrite اذا كان عندي داتا سابقها بكتب فوقها\n",
        "# the write complete when the first write ended\n",
        "with open(\"test.txt\",\"w\") as f:\n",
        " f.write(\"hello\\n\")\n",
        " f.write(\"world\\n\")"
      ],
      "metadata": {
        "id": "Kd8zKfQ_mBax"
      },
      "execution_count": null,
      "outputs": []
    },
    {
      "cell_type": "code",
      "source": [
        "# without overwrite\n",
        "with open(\"test.txt\",\"a\") as f:\n",
        " f.write(\"eshraq\")\n",
        " f.write(\" allawama\\n\")"
      ],
      "metadata": {
        "id": "evgt24mSmydt"
      },
      "execution_count": null,
      "outputs": []
    },
    {
      "cell_type": "code",
      "source": [
        "with open(\"test2.txt\",\"a\") as f:\n",
        " f.write(\"eshraq\")\n",
        " f.write(\" allawama\\n\")"
      ],
      "metadata": {
        "id": "sOxO7zPEnFWB"
      },
      "execution_count": null,
      "outputs": []
    },
    {
      "cell_type": "code",
      "source": [
        "# print(file = None) by defult\n",
        "# named standard output -> in terminal\n",
        "# file = file name so printed in -> look below\n",
        "with open(\"test.txt\",\"a\") as fille:\n",
        "  print(\"jamelah \",file = fille)\n",
        "  print(\"al koshamn \",file = fille)"
      ],
      "metadata": {
        "id": "gjOAPibjoQ6k"
      },
      "execution_count": null,
      "outputs": []
    },
    {
      "cell_type": "code",
      "source": [
        "with open(\"test3.txt\",\"w\") as fille:\n",
        "  print(\"soso \",file = fille)\n",
        "  print(\"ahamd\",file = fille)"
      ],
      "metadata": {
        "id": "AcDDl_mGqKNw"
      },
      "execution_count": null,
      "outputs": []
    },
    {
      "cell_type": "code",
      "source": [
        "os.remove(\"/content/test3.txt\")"
      ],
      "metadata": {
        "id": "axa3OgDesIO3"
      },
      "execution_count": null,
      "outputs": []
    },
    {
      "cell_type": "markdown",
      "source": [
        "#Module.py"
      ],
      "metadata": {
        "id": "7UzMLsNb6r5Y"
      }
    },
    {
      "cell_type": "code",
      "source": [
        "# the good code is moduler\n",
        "# ما يكون كل الكود تاع البروجكت بمكان واحد وانما تقسمه ع ملفات اجزاء , وكل ملف الاسم تاعه واضح لما بداخله +\n",
        "# يكون في توثيق داخله , الفنكشن الخاصة بالكتابة بموديل , الخاصة بالقراءة بموديول , وهكذا"
      ],
      "metadata": {
        "id": "PjGQqky06vCo"
      },
      "execution_count": null,
      "outputs": []
    },
    {
      "cell_type": "markdown",
      "source": [
        "each part of your program will be stored in a separate script (module)"
      ],
      "metadata": {
        "id": "L_d3BxG58D11"
      }
    },
    {
      "cell_type": "code",
      "source": [
        "with open(\"/content/mathmatical_tester.ipynb\",\"r\") as f:\n",
        "  test = f.read()\n",
        "\n",
        "print(test)\n",
        "\n",
        "with open(\"testter.ipynb\",\"w\") as f:\n",
        "    f.write(test)\n"
      ],
      "metadata": {
        "id": "HPuxG59z8Nlg"
      },
      "execution_count": null,
      "outputs": []
    },
    {
      "cell_type": "code",
      "source": [
        "with open(\"/content/testter.ipynb\",\"r\") as f:\n",
        "  test = f.read()\n"
      ],
      "metadata": {
        "id": "EHL9bc2X8Dlh"
      },
      "execution_count": null,
      "outputs": []
    },
    {
      "cell_type": "code",
      "source": [
        "print(test)"
      ],
      "metadata": {
        "id": "ar9xzwKv7xBm"
      },
      "execution_count": null,
      "outputs": []
    },
    {
      "cell_type": "code",
      "source": [
        "os.getcwd()\n",
        "os.chdir(\"/content/sample_data\")"
      ],
      "metadata": {
        "id": "_TCSqQeQFJYm"
      },
      "execution_count": null,
      "outputs": []
    },
    {
      "cell_type": "code",
      "source": [
        "os.getcwd()\n",
        "os.chdir(\"/content\")"
      ],
      "metadata": {
        "id": "zBwX0dMFFTom"
      },
      "execution_count": null,
      "outputs": []
    },
    {
      "cell_type": "code",
      "source": [
        "os.getcwd()\n"
      ],
      "metadata": {
        "colab": {
          "base_uri": "https://localhost:8080/",
          "height": 35
        },
        "id": "jlua7nmNF2vV",
        "outputId": "c6b85357-6d63-4d15-c28b-509b8a188de5"
      },
      "execution_count": null,
      "outputs": [
        {
          "output_type": "execute_result",
          "data": {
            "text/plain": [
              "'/content'"
            ],
            "application/vnd.google.colaboratory.intrinsic+json": {
              "type": "string"
            }
          },
          "metadata": {},
          "execution_count": 115
        }
      ]
    },
    {
      "cell_type": "code",
      "source": [
        "os.chdir(\"..\")"
      ],
      "metadata": {
        "id": "fIxVplVOHFd0"
      },
      "execution_count": null,
      "outputs": []
    },
    {
      "cell_type": "code",
      "source": [
        "%%writefile mathmatical_tester.py\n",
        "\"\"\" summ Module for Basic math functions\"\"\"\n",
        "def add(n1, n2):\n",
        "  \"\"\"\n",
        "  this function add two numbers\n",
        "\n",
        "  parameters\n",
        "  ----------\n",
        "  n1 : int\n",
        "  n2 : int\n",
        "\n",
        "  return\n",
        "  ------\n",
        "  return n1 + n2 : int\n",
        "  \"\"\"\n",
        "  return n1 + n2\n",
        "\n",
        "def sub(n1, n2):\n",
        "  \"\"\"\n",
        "  this function subtract two numbers\n",
        "\n",
        "  parameters\n",
        "  ----------\n",
        "  n1 : int\n",
        "  n2 : int\n",
        "\n",
        "  return\n",
        "  ------\n",
        "  return n1 - n2 : int\n",
        "  \"\"\"\n",
        "  return n1 - n2"
      ],
      "metadata": {
        "colab": {
          "base_uri": "https://localhost:8080/"
        },
        "id": "7_NF7KzBGPYM",
        "outputId": "140f312d-c17a-4324-c5f2-57f657236e7b"
      },
      "execution_count": null,
      "outputs": [
        {
          "output_type": "stream",
          "name": "stdout",
          "text": [
            "Overwriting mathmatical_tester.py\n"
          ]
        }
      ]
    },
    {
      "cell_type": "code",
      "source": [
        "help(m)"
      ],
      "metadata": {
        "colab": {
          "base_uri": "https://localhost:8080/"
        },
        "id": "aZvART3IRqi9",
        "outputId": "3a2bff04-2cb9-4b7a-91b7-53dd3938fde9"
      },
      "execution_count": null,
      "outputs": [
        {
          "output_type": "stream",
          "name": "stdout",
          "text": [
            "Help on module mathmatical_tester:\n",
            "\n",
            "NAME\n",
            "    mathmatical_tester - Module for Basic math functions\n",
            "\n",
            "FUNCTIONS\n",
            "    add(n1, n2)\n",
            "        this function add two numbers\n",
            "        \n",
            "        parameters\n",
            "        ----------\n",
            "        n1 : int\n",
            "        n2 : int\n",
            "        \n",
            "        return\n",
            "        ------\n",
            "        return n1 + n2 : int\n",
            "    \n",
            "    sub(n1, n2)\n",
            "        this function subtract two numbers\n",
            "        \n",
            "        parameters\n",
            "        ----------\n",
            "        n1 : int\n",
            "        n2 : int\n",
            "        \n",
            "        return\n",
            "        ------\n",
            "        return n1 - n2 : int\n",
            "\n",
            "FILE\n",
            "    /content/mathmatical_tester.py\n",
            "\n",
            "\n"
          ]
        }
      ]
    },
    {
      "cell_type": "code",
      "source": [
        "import mathmatical_tester as m # m is alias\n",
        "print(m.sub(3,4))\n"
      ],
      "metadata": {
        "colab": {
          "base_uri": "https://localhost:8080/"
        },
        "id": "ajcRelj-E8K7",
        "outputId": "953beee4-ef8a-4e68-dcc5-203893303904"
      },
      "execution_count": null,
      "outputs": [
        {
          "output_type": "stream",
          "name": "stdout",
          "text": [
            "-1\n"
          ]
        }
      ]
    },
    {
      "cell_type": "code",
      "source": [
        "from M import add as a\n",
        "print((a(4,3)))"
      ],
      "metadata": {
        "colab": {
          "base_uri": "https://localhost:8080/"
        },
        "id": "DxzVXaPBFpOE",
        "outputId": "7cd69c4f-a7b0-428a-f9c0-3bcf84e0746b"
      },
      "execution_count": null,
      "outputs": [
        {
          "output_type": "stream",
          "name": "stdout",
          "text": [
            "7\n"
          ]
        }
      ]
    },
    {
      "cell_type": "code",
      "source": [
        "# module name and variable and functions -> snack_case\n",
        "# small litters and _"
      ],
      "metadata": {
        "id": "S0u0Hi-cK6Gd"
      },
      "execution_count": null,
      "outputs": []
    },
    {
      "cell_type": "code",
      "source": [
        "# vertial environment  : نسخة من بايثون تحتوي علي ال pakges وال modules المستعملة ب احد البروجكت"
      ],
      "metadata": {
        "id": "2WsgxWAVW5y2"
      },
      "execution_count": null,
      "outputs": []
    }
  ]
}